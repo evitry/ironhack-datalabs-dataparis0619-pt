{
 "cells": [
  {
   "cell_type": "markdown",
   "metadata": {},
   "source": [
    "In the cell below, create a Python function that wraps your previous solution for the Bag of Words lab.\n",
    "\n",
    "Requirements:\n",
    "\n",
    "1. Your function should accept the following parameters:\n",
    "    * `docs` [REQUIRED] - array of document paths.\n",
    "    * `stop_words` [OPTIONAL] - array of stop words. The default value is an empty array.\n",
    "\n",
    "1. Your function should return a Python object that contains the following:\n",
    "    * `bag_of_words` - array of strings of normalized unique words in the corpus.\n",
    "    * `term_freq` - array of the term-frequency vectors."
   ]
  },
  {
   "cell_type": "code",
   "execution_count": 1,
   "metadata": {},
   "outputs": [],
   "source": [
    "# Import required libraries\n",
    "import re\n",
    "\n",
    "# Define function\n",
    "def get_bow_from_docs(docs, stop_words=[]):\n",
    "    \n",
    "    # In the function, first define the variables you will use such as `corpus`, `bag_of_words`, and `term_freq`.\n",
    "    \n",
    "    corpus = []\n",
    "    bag_of_words = []\n",
    "    term_freq = []\n",
    "\n",
    "    \"\"\"\n",
    "    Loop `docs` and read the content of each doc into a string in `corpus`.\n",
    "    Remember to convert the doc content to lowercases and remove punctuation.\n",
    "    \"\"\"\n",
    "    for doc in docs:   \n",
    "        with open(doc, \"r\") as f:\n",
    "            lines = f.readlines()\n",
    "            corpus.append(lines[0])\n",
    "\n",
    "    \n",
    "    \"\"\"\n",
    "    Loop `corpus`. Append the terms in each doc into the `bag_of_words` array. The terms in `bag_of_words` \n",
    "    should be unique which means before adding each term you need to check if it's already added to the array.\n",
    "    In addition, check if each term is in the `stop_words` array. Only append the term to `bag_of_words`\n",
    "    if it is not a stop word.\n",
    "    \"\"\"\n",
    "    #i is the index of corpus element\n",
    "    i=0\n",
    "    for string in corpus:\n",
    "        corpus[i] = string.lower().replace('.','')\n",
    "        corpus_temp=re.split('[\\W]',corpus[i])\n",
    "        i+=1\n",
    "        for e1 in corpus_temp:\n",
    "            if (e1 not in bag_of_words) and (e1 not in stop_words):\n",
    "                bag_of_words.append(e1)\n",
    "        \n",
    "    \n",
    "    \"\"\"\n",
    "    Loop `corpus` again. For each doc string, count the number of occurrences of each term in `bag_of_words`. \n",
    "    Create an array for each doc's term frequency and append it to `term_freq`.\n",
    "    \"\"\"\n",
    "    for string in corpus:\n",
    "        term_freq_array = []\n",
    "        for e1 in bag_of_words:\n",
    "        #i is the number of occurence of each element in bag_of_words\n",
    "            i=0\n",
    "            if e1 in string.split(\" \"):\n",
    "                i+=1\n",
    "            term_freq_array.append(i)\n",
    "        term_freq.append(term_freq_array)\n",
    "    \n",
    "    \n",
    "    # Now return your output as an object\n",
    "    return {\n",
    "        \"bag_of_words\": bag_of_words,\n",
    "        \"term_freq\": term_freq\n",
    "    }\n",
    "    "
   ]
  },
  {
   "cell_type": "markdown",
   "metadata": {},
   "source": [
    "Test your function without stop words. You should see the output like below:\n",
    "\n",
    "```{'bag_of_words': ['ironhack', 'is', 'cool', 'i', 'love', 'am', 'a', 'student', 'at'], 'term_freq': [[1, 1, 1, 0, 0, 0, 0, 0, 0], [1, 0, 0, 1, 1, 0, 0, 0, 0], [1, 0, 0, 1, 0, 1, 1, 1, 1]]}```"
   ]
  },
  {
   "cell_type": "code",
   "execution_count": 6,
   "metadata": {},
   "outputs": [
    {
     "name": "stdout",
     "output_type": "stream",
     "text": [
      "{'bag_of_words': ['ironhack', 'is', 'cool', 'i', 'love', 'am', 'a', 'student', 'at'], 'term_freq': [[1, 1, 1, 0, 0, 0, 0, 0, 0], [1, 0, 0, 1, 1, 0, 0, 0, 0], [1, 0, 0, 1, 0, 1, 1, 1, 1]]}\n"
     ]
    }
   ],
   "source": [
    "# Define doc paths array\n",
    "doc1 = 'C:/Users/Elodie/Documents/ironhack-datalabs-dataparis0619-pt/module-1/lab-string-operations/your-code/doc1.txt'\n",
    "doc2 = 'C:/Users/Elodie/Documents/ironhack-datalabs-dataparis0619-pt/module-1/lab-string-operations/your-code/doc2.txt'\n",
    "doc3 = 'C:/Users/Elodie/Documents/ironhack-datalabs-dataparis0619-pt/module-1/lab-string-operations/your-code/doc3.txt'\n",
    "docs = [doc1, doc2, doc3]\n",
    "\n",
    "# Obtain BoW from your function\n",
    "bow = get_bow_from_docs(docs)\n",
    "\n",
    "# Print BoW\n",
    "print(bow)"
   ]
  },
  {
   "cell_type": "markdown",
   "metadata": {},
   "source": [
    "If your attempt above is successful, nice work done!\n",
    "\n",
    "Now test your function again with the stop words. In the previous lab we defined the stop words in a large array. In this lab, we'll import the stop words from Scikit-Learn."
   ]
  },
  {
   "cell_type": "code",
   "execution_count": 8,
   "metadata": {},
   "outputs": [
    {
     "name": "stdout",
     "output_type": "stream",
     "text": [
      "frozenset({'upon', 'there', 'hence', 'others', 'serious', 'always', 'please', 'since', 'around', 'thru', 'under', 'against', 'will', 'latterly', 'somewhere', 'being', 'down', 'because', 'become', 'someone', 'mill', 'name', 'amoungst', 'get', 'i', 'go', 'whither', 'sometimes', 'see', 'de', 'so', 'third', 'enough', 're', 'seeming', 'its', 'several', 'out', 'among', 'latter', 'describe', 'hereupon', 'detail', 'give', 'as', 'herein', 'could', 'and', 'while', 'became', 'above', 'without', 'rather', 'anywhere', 'fire', 'cry', 'across', 'no', 'their', 'ourselves', 'would', 'throughout', 'other', 'bottom', 'full', 'sixty', 'were', 'already', 'nothing', 'per', 'these', 'few', 'interest', 'becomes', 'yet', 'thin', 'whoever', 'at', 'via', 'if', 'whether', 'something', 'find', 'perhaps', 'why', 'becoming', 'be', 'his', 'may', 'put', 'wherein', 'me', 'about', 'them', 'show', 'from', 'wherever', 'otherwise', 'thereby', 'by', 'some', 'fifteen', 'etc', 'has', 'though', 'very', 'then', 'therefore', 'call', 'all', 'thus', 'not', 'ever', 'moreover', 'over', 'own', 'such', 'often', 'off', 'anyone', 'herself', 'part', 'along', 'thence', 'myself', 'next', 'up', 'beforehand', 'many', 'noone', 'whereupon', 'she', 'never', 'much', 'it', 'after', 'found', 'when', 'beyond', 'same', 'but', 'else', 'whence', 'until', 'thick', 'least', 'cannot', 'hundred', 'besides', 'before', 'into', 'an', 'formerly', 'alone', 'is', 'amount', 'hers', 'do', 'eight', 'anything', 'am', 'are', 'forty', 'co', 'move', 'thereupon', 'twelve', 'had', 'somehow', 'mostly', 'last', 'still', 'through', 'they', 'further', 'indeed', 'of', 'have', 'mine', 'or', 'seemed', 'to', 'a', 'empty', 'take', 'six', 'each', 'her', 'on', 'for', 'namely', 'yourselves', 'between', 'might', 'himself', 'our', 'within', 'most', 'nine', 'however', 'two', 'can', 'first', 'whom', 'where', 'who', 'whereas', 'hasnt', 'almost', 'in', 'none', 'thereafter', 'amongst', 'everyone', 'twenty', 'whatever', 'that', 'too', 'although', 'hereby', 'the', 'except', 'one', 'how', 'than', 'should', 'toward', 'now', 'keep', 'themselves', 'therein', 'ours', 'nowhere', 'ten', 'nobody', 'whereby', 'him', 'eleven', 'below', 'behind', 'only', 'your', 'five', 'even', 'well', 'nor', 'whereafter', 'every', 'with', 'itself', 'been', 'whose', 'un', 'sometime', 'four', 'here', 'nevertheless', 'meanwhile', 'seems', 'yourself', 'everything', 'neither', 'fifty', 'three', 'either', 'together', 'ltd', 'bill', 'former', 'yours', 'couldnt', 'anyhow', 'con', 'everywhere', 'what', 'inc', 'you', 'hereafter', 'top', 'during', 'afterwards', 'fill', 'back', 'again', 'ie', 'this', 'side', 'front', 'cant', 'more', 'we', 'any', 'anyway', 'was', 'whole', 'made', 'beside', 'us', 'must', 'another', 'eg', 'my', 'once', 'which', 'sincere', 'whenever', 'also', 'towards', 'seem', 'system', 'elsewhere', 'those', 'due', 'onto', 'both', 'done', 'less', 'he'})\n"
     ]
    }
   ],
   "source": [
    "from sklearn.feature_extraction import stop_words\n",
    "print(stop_words.ENGLISH_STOP_WORDS)"
   ]
  },
  {
   "cell_type": "markdown",
   "metadata": {},
   "source": [
    "You should have seen a large list of words that looks like:\n",
    "\n",
    "```frozenset({'across', 'mine', 'cannot', ...})```\n",
    "\n",
    "`frozenset` is a type of Python object that is immutable. In this lab you can use it just like an array without conversion."
   ]
  },
  {
   "cell_type": "markdown",
   "metadata": {},
   "source": [
    "Next, test your function with supplying `stop_words.ENGLISH_STOP_WORDS` as the second parameter."
   ]
  },
  {
   "cell_type": "code",
   "execution_count": 11,
   "metadata": {},
   "outputs": [
    {
     "name": "stdout",
     "output_type": "stream",
     "text": [
      "{'bag_of_words': ['ironhack', 'cool', 'love', 'student'], 'term_freq': [[1, 1, 0, 0], [1, 0, 1, 0], [1, 0, 0, 1]]}\n"
     ]
    }
   ],
   "source": [
    "bow = get_bow_from_docs(docs, stop_words.ENGLISH_STOP_WORDS)\n",
    "\n",
    "print(bow)"
   ]
  },
  {
   "cell_type": "markdown",
   "metadata": {},
   "source": [
    "You should have seen:\n",
    "\n",
    "```{'bag_of_words': ['ironhack', 'cool', 'love', 'student'], 'term_freq': [[1, 1, 0, 0], [1, 0, 1, 0], [1, 0, 0, 1]]}```"
   ]
  },
  {
   "cell_type": "code",
   "execution_count": null,
   "metadata": {},
   "outputs": [],
   "source": []
  }
 ],
 "metadata": {
  "kernelspec": {
   "display_name": "Python 3",
   "language": "python",
   "name": "python3"
  },
  "language_info": {
   "codemirror_mode": {
    "name": "ipython",
    "version": 3
   },
   "file_extension": ".py",
   "mimetype": "text/x-python",
   "name": "python",
   "nbconvert_exporter": "python",
   "pygments_lexer": "ipython3",
   "version": "3.7.3"
  }
 },
 "nbformat": 4,
 "nbformat_minor": 2
}
