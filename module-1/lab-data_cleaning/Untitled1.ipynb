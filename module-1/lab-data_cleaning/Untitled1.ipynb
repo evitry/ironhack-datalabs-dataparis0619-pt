{
 "cells": [
  {
   "cell_type": "code",
   "execution_count": 27,
   "metadata": {},
   "outputs": [
    {
     "name": "stdout",
     "output_type": "stream",
     "text": [
      "[[[1. 1. 1.]\n",
      "  [1. 1. 1.]]\n",
      "\n",
      " [[1. 1. 1.]\n",
      "  [1. 1. 1.]]\n",
      "\n",
      " [[1. 1. 1.]\n",
      "  [1. 1. 1.]]\n",
      "\n",
      " [[1. 1. 1.]\n",
      "  [1. 1. 1.]]\n",
      "\n",
      " [[1. 1. 1.]\n",
      "  [1. 1. 1.]]]\n",
      "[[[1.02060992 1.32219887 1.40155395 1.55191925 1.82122086]\n",
      "  [1.97311417 1.59267085 1.02206563 1.64009815 1.47764766]\n",
      "  [1.84413814 1.43932477 1.90876996 1.16706411 1.49701302]]\n",
      "\n",
      " [[1.91966323 1.7544444  1.61686965 1.88355772 1.65006504]\n",
      "  [1.604885   1.56951089 1.69700432 1.0547897  1.67727775]\n",
      "  [1.98139566 1.27082933 1.67811101 1.09387659 1.19623235]]]\n"
     ]
    }
   ],
   "source": [
    "#1. Import the NUMPY package under the name np.\n",
    "import numpy as np\n",
    "\n",
    "#3. Generate a 2x3x5 3-dimensional array with random values. Assign the array to variable \"a\"\n",
    "# Challenge: there are at least three easy ways that use numpy to generate random arrays. How many ways can you find?\n",
    "a = np.random.random((2,3,5))\n",
    "a2 = np.random.rand(2,3,5)\n",
    "\n",
    "\n",
    "#5. Create a 5x2x3 3-dimensional array with all values equaling 1.\n",
    "#Assign the array to variable \"b\"\n",
    "b = np.ones((5,2,3))\n",
    "b2 = np.full((5,2,3), 1)\n",
    "\n",
    "\n",
    "#6. Print b.\n",
    "print(b)\n",
    "\n",
    "\n",
    "#7. Do a and b have the same size? How do you prove that in Python code?\n",
    "def array_size_comparision(a,b):\n",
    "    return a.size == b.size\n",
    "\n",
    "\"\"\"def array_size_comparision(a,b):\n",
    "    if a.size == b.size:\n",
    "        return True\n",
    "    else:\n",
    "        return False\"\"\"\n",
    "    \n",
    "array_size_comparision(a,b)\n",
    "\n",
    "\n",
    "\n",
    "#9. Transpose b so that it has the same structure of a (i.e. become a 2x3x5 array). Assign the transposed array to varialbe \"c\".\n",
    "c = np.transpose(b,(1,2,0))\n",
    "\n",
    "\n",
    "#10. Try to add a and c. Now it should work. Assign the sum to varialbe \"d\". But why does it work now?\n",
    "d = np.add(a,c)\n",
    "print(d)\n",
    "#same size and same shape means all individual element can be added from both array because it exists on both side.\n",
    "\n",
    "\n",
    "#11. Print a and d. Notice the difference and relation of the two array in terms of the values? Explain.\n",
    "#d is a with 1 added at each value\n",
    "\n",
    "\n",
    "\n",
    "#12. Multiply a and c. Assign the result to e.\n",
    "e = np.multiply(a,c)\n",
    "\n",
    "\n",
    "#13. Does e equal to a? Why or why not?\n",
    "#e is equal to a because multiplying by one each element does not change them.\n",
    "\n",
    "\n",
    "\n",
    "#14. Identify the max, min, and mean values in d. Assign those values to variables \"d_max\", \"d_min\", and \"d_mean\"\n",
    "d_max = np.max(d)\n",
    "d_min = np.min(d)\n",
    "d_mean = np.mean(d)\n",
    "\n",
    "#15. Now we want to label the values in d. First create an empty array \"f\" with the same shape (i.e. 2x3x5) as d using `np.empty`.\n",
    "f = np.empty([2, 3,5])\n",
    "\n"
   ]
  },
  {
   "cell_type": "code",
   "execution_count": 28,
   "metadata": {},
   "outputs": [],
   "source": [
    "\n",
    "f[d == d_min] = 0\n",
    "f[(d > d_min) & (d < d_mean)] = 25\n",
    "f[d == d_mean] = 50\n",
    "f[(d > d_mean) & (d < d_max)] = 75\n",
    "f[d == d_max] = 100"
   ]
  },
  {
   "cell_type": "code",
   "execution_count": 29,
   "metadata": {},
   "outputs": [
    {
     "name": "stdout",
     "output_type": "stream",
     "text": [
      "[[[  0.  25.  25.  75.  75.]\n",
      "  [ 75.  75.  25.  75.  25.]\n",
      "  [ 75.  25.  75.  25.  25.]]\n",
      "\n",
      " [[ 75.  75.  75.  75.  75.]\n",
      "  [ 75.  75.  75.  25.  75.]\n",
      "  [100.  25.  75.  25.  25.]]]\n"
     ]
    }
   ],
   "source": [
    "print(f)"
   ]
  },
  {
   "cell_type": "code",
   "execution_count": 31,
   "metadata": {},
   "outputs": [],
   "source": [
    "f = f.astype(str)\n",
    "\n",
    "f[f == '0.0'] = 'A'\n",
    "f[f == '25.0'] = 'B'\n",
    "#f[f == 50] = 'C'\n",
    "#f[f == 75] = 'D'\n",
    "#f[f == 100] = 'E'\n",
    "\n"
   ]
  },
  {
   "cell_type": "code",
   "execution_count": 32,
   "metadata": {},
   "outputs": [
    {
     "data": {
      "text/plain": [
       "array([[['A', 'B', 'B', '75.0', '75.0'],\n",
       "        ['75.0', '75.0', 'B', '75.0', 'B'],\n",
       "        ['75.0', 'B', '75.0', 'B', 'B']],\n",
       "\n",
       "       [['75.0', '75.0', '75.0', '75.0', '75.0'],\n",
       "        ['75.0', '75.0', '75.0', 'B', '75.0'],\n",
       "        ['100.0', 'B', '75.0', 'B', 'B']]], dtype='<U32')"
      ]
     },
     "execution_count": 32,
     "metadata": {},
     "output_type": "execute_result"
    }
   ],
   "source": [
    "f"
   ]
  },
  {
   "cell_type": "code",
   "execution_count": null,
   "metadata": {},
   "outputs": [],
   "source": []
  }
 ],
 "metadata": {
  "kernelspec": {
   "display_name": "Python 3",
   "language": "python",
   "name": "python3"
  },
  "language_info": {
   "codemirror_mode": {
    "name": "ipython",
    "version": 3
   },
   "file_extension": ".py",
   "mimetype": "text/x-python",
   "name": "python",
   "nbconvert_exporter": "python",
   "pygments_lexer": "ipython3",
   "version": "3.7.3"
  }
 },
 "nbformat": 4,
 "nbformat_minor": 2
}
