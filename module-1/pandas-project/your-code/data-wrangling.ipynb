{
 "cells": [
  {
   "cell_type": "code",
   "execution_count": 1,
   "metadata": {},
   "outputs": [],
   "source": [
    "#libraries used\n",
    "import pandas as pd\n",
    "import numpy as np\n",
    "import re\n",
    "from datetime import datetime"
   ]
  },
  {
   "cell_type": "code",
   "execution_count": 26,
   "metadata": {},
   "outputs": [],
   "source": [
    "#import of the data set\n",
    "# Making a list of missing value types\n",
    "missing_values = [\"            \",\" \",\"  \",\"UNKNOWN\",\"#VALUE!\"]\n",
    "data = pd.read_csv('GSAF5.csv', na_values = missing_values, encoding='latin-1')"
   ]
  },
  {
   "cell_type": "code",
   "execution_count": 27,
   "metadata": {},
   "outputs": [
    {
     "data": {
      "text/plain": [
       "Country                     43\n",
       "Area                       402\n",
       "Location                   497\n",
       "Activity                   528\n",
       "Name                       200\n",
       "Sex                        567\n",
       "Age                       2683\n",
       "Injury                      27\n",
       "Fatal (Y/N)                114\n",
       "Time                      3215\n",
       "Species                   2940\n",
       "Investigator or Source      15\n",
       "href formula                 1\n",
       "href                         3\n",
       "Unnamed: 22               5991\n",
       "Unnamed: 23               5990\n",
       "dtype: int64"
      ]
     },
     "execution_count": 27,
     "metadata": {},
     "output_type": "execute_result"
    }
   ],
   "source": [
    "#check the number of null values per column\n",
    "null_cols = data.isnull().sum()\n",
    "null_cols[null_cols > 0]\n",
    "#Time have 3213 null values -> don't keep it because if this information is often missing, we won't be able to get a trend on the attack hour\n",
    "#Species have 2934 null values -> keep it because we might still want to know what kind of shark attack\n",
    "#Age have 2681 null values -> don't keep it as it is not an interresting information if often missing\n",
    "#I wanted to remove Name column as I don't find this information useful but sometimes it contains sex and other information"
   ]
  },
  {
   "cell_type": "code",
   "execution_count": 28,
   "metadata": {},
   "outputs": [],
   "source": [
    "#Drop not interresting columns\n",
    "to_drop = ['Year','Age','Time','href','Unnamed: 22','Unnamed: 23']\n",
    "data.drop(columns=to_drop,inplace=True)"
   ]
  },
  {
   "cell_type": "code",
   "execution_count": 29,
   "metadata": {},
   "outputs": [],
   "source": [
    "#function to clean the date from Case number attribute\n",
    "def clean_Date(e):\n",
    "\n",
    "    if re.search(\"[0-9]{4}.[0-9]{2}.[0-9]{2}\",e):\n",
    "        splitted_date = re.split(\"\\D\",e)\n",
    "        if splitted_date[1] == \"00\":\n",
    "            splitted_date[1] = \"01\"\n",
    "        if splitted_date[2] == \"00\":\n",
    "            splitted_date[2] = \"01\"\n",
    "        cleaned_date = datetime(int(splitted_date[0]),int(splitted_date[1]),int(splitted_date[2]))\n",
    "    else:\n",
    "        cleaned_date = np.nan\n",
    "    \n",
    "    return cleaned_date"
   ]
  },
  {
   "cell_type": "code",
   "execution_count": 30,
   "metadata": {},
   "outputs": [
    {
     "data": {
      "text/plain": [
       "'Is it useful?\\n#function to change empty value by \"Not specified\"\\ndef empty_values(e):\\n    if re.search(\"^$\",e):\\n        e = \"Not specified\"\\n    return e'"
      ]
     },
     "execution_count": 30,
     "metadata": {},
     "output_type": "execute_result"
    }
   ],
   "source": [
    "\"\"\"Is it useful?\n",
    "#function to change empty value by \"Not specified\"\n",
    "def empty_values(e):\n",
    "    if re.search(\"^$\",e):\n",
    "        e = \"Not specified\"\n",
    "    return e\"\"\""
   ]
  },
  {
   "cell_type": "code",
   "execution_count": 31,
   "metadata": {},
   "outputs": [],
   "source": [
    "#function to remove space at the beginning and at the end of my string\n",
    "def remove_spaces(e):\n",
    "    if re.search(\"^ \",e):\n",
    "        e = re.sub(\"^ +\",\"\",e)\n",
    "    if re.search(\" $\",e):\n",
    "        e = re.sub(\" +$\",\"\",e)\n",
    "    return e"
   ]
  },
  {
   "cell_type": "code",
   "execution_count": 32,
   "metadata": {},
   "outputs": [
    {
     "data": {
      "text/plain": [
       "'Does not work\\ndef sex_cleaning(e):\\n    if ((e != \\'F\\') or (e != \\'M\\')):\\n        e = \"Not specified\" #retourne que du not specified\\n    return e'"
      ]
     },
     "execution_count": 32,
     "metadata": {},
     "output_type": "execute_result"
    }
   ],
   "source": [
    "\"\"\"Does not work\n",
    "def sex_cleaning(e):\n",
    "    if ((e != 'F') or (e != 'M')):\n",
    "        e = \"Not specified\" #retourne que du not specified\n",
    "    return e\"\"\""
   ]
  },
  {
   "cell_type": "code",
   "execution_count": 33,
   "metadata": {},
   "outputs": [
    {
     "data": {
      "text/plain": [
       "'Does not work\\ndef fatal_cleaning(e):\\n    if e != \"N\" or e != \"Y\":\\n        e = \"Not specified\"\\n    return e'"
      ]
     },
     "execution_count": 33,
     "metadata": {},
     "output_type": "execute_result"
    }
   ],
   "source": [
    "\"\"\"Does not work\n",
    "def fatal_cleaning(e):\n",
    "    if e != \"N\" or e != \"Y\":\n",
    "        e = \"Not specified\"\n",
    "    return e\"\"\""
   ]
  },
  {
   "cell_type": "code",
   "execution_count": 34,
   "metadata": {},
   "outputs": [],
   "source": [
    "#Clean Date column\n",
    "#apply clean_date function to our Case number column and put the calculated date into date column\n",
    "data['Date'] = data['Case Number'].apply(clean_Date)"
   ]
  },
  {
   "cell_type": "code",
   "execution_count": 35,
   "metadata": {},
   "outputs": [],
   "source": [
    "#create a new column to know if the Date did not contain day and/or month\n",
    "lst=[]\n",
    "for e in data['Case Number']:\n",
    "    if re.search(\"[0-9]{4}.0{2}.0{2}\",e) or re.search(\"[0-9]{4}.[0-9]{2}.0{2}\",e):\n",
    "        lst.append(\"Yes\")\n",
    "    else:\n",
    "        lst.append(\"No\")\n",
    "data['Date_alterated'] = pd.DataFrame(lst)"
   ]
  },
  {
   "cell_type": "code",
   "execution_count": 36,
   "metadata": {},
   "outputs": [],
   "source": [
    "#rename our columns name by applying remove space function\n",
    "data.rename(remove_spaces,axis=1, inplace=True)\n",
    "data.rename(columns={'Fatal (Y/N)': 'Fatal'}, inplace=True)"
   ]
  },
  {
   "cell_type": "code",
   "execution_count": 37,
   "metadata": {},
   "outputs": [],
   "source": [
    "#clean country\n",
    "#Convert Country data into str because some are floats\n",
    "#I remove \"?\", considering the country is correct\n",
    "data['Country'] = data['Country'].astype(str)\n",
    "data['Country'] = data['Country'].replace('\\?', '')\n",
    "data['Country'] = data['Country'].apply(remove_spaces)"
   ]
  },
  {
   "cell_type": "code",
   "execution_count": 38,
   "metadata": {},
   "outputs": [],
   "source": [
    "#clean area\n",
    "data['Area'] = data['Area'].astype(str)\n",
    "data['Area'] = data['Area'].replace('\\\"','')\n",
    "data['Area'] = data['Area'].replace(\"Tavenui\",\"Taveuni\")\n",
    "data['Area'] = data['Area'].replace(\"Tamilnadu\",\"Tamil Nadu\")\n",
    "data['Area'] = data['Area'].replace(\"Guerro\",\"Guerrero\")\n",
    "data['Area'] = data['Area'].replace(\"Guerrrero\",\"Guerrero\")\n",
    "data['Area'] = data['Area'].replace(\"islans\",\"Islands\")\n",
    "data['Area'] = data['Area'].replace(\"Province\",\"\")\n",
    "data['Area'] = data['Area'].replace(\"Region\",\"\")\n",
    "data['Area'] = data['Area'].replace(\"shire\",\"\")\n",
    "#data['Area'] = data['Area'].apply(empty_values)\n",
    "data['Area'] = data['Area'].apply(remove_spaces)"
   ]
  },
  {
   "cell_type": "code",
   "execution_count": 39,
   "metadata": {},
   "outputs": [],
   "source": [
    "#Clean Location column\n",
    "data['Location'] = data['Location'].astype(str)\n",
    "data['Location'] = data['Location'].replace(\"\\(\",\"\")\n",
    "data['Location'] = data['Location'].replace(\"\\)\",\"\")\n",
    "#data['Location'] = data['Location'].apply(empty_values)\n",
    "data['Location'] = data['Location'].apply(remove_spaces)"
   ]
  },
  {
   "cell_type": "code",
   "execution_count": 40,
   "metadata": {},
   "outputs": [],
   "source": [
    "#Clean Activity column\n",
    "data['Activity'] = data['Activity'].astype(str)\n",
    "#find verb in gerund\n",
    "lst=[]\n",
    "for e in data['Activity']:\n",
    "    lst.append(re.findall(\"[A-Za-z]*-?ing\",e))\n",
    "data['Activity'] = pd.DataFrame(lst) #loss of information once there is more than one activity on a line\n",
    "data['Activity'] = data['Activity'].str.capitalize()"
   ]
  },
  {
   "cell_type": "code",
   "execution_count": 41,
   "metadata": {},
   "outputs": [],
   "source": [
    "#Clean Sex column\n",
    "data['Sex'] = data['Sex'].astype(str)\n",
    "data['Sex'] = data['Sex'].replace(\"N\",\"\")\n",
    "data['Sex'] = data['Sex'].str.replace(\"\\.\",\"\") #ne fonctionne pas sans .str\n",
    "data['Sex'] = data['Sex'].replace(\"lli\",\"\")\n",
    "data['Sex'] = data['Sex'].replace(\"nan\",\"\")"
   ]
  },
  {
   "cell_type": "code",
   "execution_count": 42,
   "metadata": {},
   "outputs": [],
   "source": [
    "#data['Sex'] = data['Sex'].apply(empty_values)\n",
    "data['Sex'] = data['Sex'].apply(remove_spaces)"
   ]
  },
  {
   "cell_type": "code",
   "execution_count": 43,
   "metadata": {},
   "outputs": [],
   "source": [
    "#Does not work\n",
    "#data['Sex'] = data['Sex'].apply(sex_cleaning)"
   ]
  },
  {
   "cell_type": "code",
   "execution_count": 44,
   "metadata": {},
   "outputs": [],
   "source": [
    "#I use Name column information to get the sex if precised\n",
    "data['Name'] = data['Name'].astype(str)\n",
    "data['Name'] = data['Name'].str.lower()\n",
    "lst = []\n",
    "for e in data['Name']:\n",
    "    if re.search(\"boy\",e) or re.search(\"male\",e) or re.search(\"m[ae]n\",e):\n",
    "        lst.append(\"M\")\n",
    "    elif re.search(\"girl\",e) or re.search(\"female\",e) or re.search(\"wom[ae]n\",e):\n",
    "        lst.append(\"F\")\n",
    "    else:\n",
    "        lst.append(\"\")\n",
    "data['test sex'] = pd.DataFrame(lst)"
   ]
  },
  {
   "cell_type": "code",
   "execution_count": 45,
   "metadata": {
    "scrolled": false
   },
   "outputs": [],
   "source": [
    "#I use newly created column test sex information to complete sex column\n",
    "data.loc[(data['Sex']==\"\") & (data['test sex']==\"M\"), 'Sex'] = \"M\"\n",
    "data.loc[(data['Sex']==\"\") & data['test sex']==\"F\", 'Sex'] = \"F\""
   ]
  },
  {
   "cell_type": "code",
   "execution_count": 46,
   "metadata": {},
   "outputs": [],
   "source": [
    "#Clean Injury column\n",
    "data['Injury'] = data['Injury'].astype(str)\n",
    "data['Injury'] = data['Injury'].replace('\\\"','')\n",
    "data['Injury'] = data['Injury'].apply(remove_spaces)"
   ]
  },
  {
   "cell_type": "code",
   "execution_count": 47,
   "metadata": {},
   "outputs": [
    {
     "data": {
      "text/plain": [
       "'data[\\'Fatal\\'] = data[\\'Fatal\\'].astype(str)\\ndata[\\'Fatal\\'] = data[\\'Fatal\\'].replace(\"n\",\"N\")\\n#data[\\'Fatal\\'] = data[\\'Fatal\\'].replace(\"F\",\"\")\\ndata[\\'Fatal\\'] = data[\\'Fatal\\'].replace(\"#VALUE!\",\"\")\\ndata[\\'Fatal\\'] = data[\\'Fatal\\'].replace(\"nan\",\"\")\\ndata[\\'Fatal\\'] = data[\\'Fatal\\'].apply(remove_spaces)'"
      ]
     },
     "execution_count": 47,
     "metadata": {},
     "output_type": "execute_result"
    }
   ],
   "source": [
    "#Clean Fatal column\n",
    "\"\"\"data['Fatal'] = data['Fatal'].astype(str)\n",
    "data['Fatal'] = data['Fatal'].replace(\"n\",\"N\")\n",
    "#data['Fatal'] = data['Fatal'].replace(\"F\",\"\")\n",
    "data['Fatal'] = data['Fatal'].replace(\"#VALUE!\",\"\")\n",
    "data['Fatal'] = data['Fatal'].replace(\"nan\",\"\")\n",
    "data['Fatal'] = data['Fatal'].apply(remove_spaces)\"\"\"\n",
    "# does not work\n",
    "#data['Fatal (Y/N)'] = data['Fatal (Y/N)'].apply(fatal_cleaning)"
   ]
  },
  {
   "cell_type": "code",
   "execution_count": 48,
   "metadata": {},
   "outputs": [],
   "source": [
    "#dans injury il y a du fatal qui peut compléter la colonne correspondante\n",
    "#I use Injury column information to get the fatal if precised\n",
    "data['Injury'] = data['Injury'].astype(str)\n",
    "data['Injury'] = data['Injury'].str.lower()\n",
    "lst = []\n",
    "for e in data['Injury']:\n",
    "    if re.search(\"fatal\",e) and not re.search(\"non-\",e):\n",
    "        lst.append(\"Y\")\n",
    "    else:\n",
    "        lst.append(\"N\")\n",
    "data['test fatal'] = pd.DataFrame(lst)"
   ]
  },
  {
   "cell_type": "code",
   "execution_count": 55,
   "metadata": {},
   "outputs": [
    {
     "name": "stdout",
     "output_type": "stream",
     "text": [
      "{'N', 'n', 'nan', 'Y'}\n"
     ]
    }
   ],
   "source": [
    "print(set(data['Fatal']))"
   ]
  },
  {
   "cell_type": "code",
   "execution_count": 52,
   "metadata": {},
   "outputs": [],
   "source": [
    "# Detecting incorrect data in Fatal column\n",
    "cnt=0\n",
    "for row in data['Fatal']:\n",
    "    try:\n",
    "        if row == 'F':\n",
    "            data.loc[cnt, 'Fatal']=np.nan\n",
    "    except ValueError:\n",
    "        pass\n",
    "    cnt+=1\n",
    "\n",
    "data['Fatal'] = data['Fatal'].astype(str)\n",
    "data['Fatal'] = data['Fatal'].apply(remove_spaces)"
   ]
  },
  {
   "cell_type": "code",
   "execution_count": 54,
   "metadata": {},
   "outputs": [],
   "source": [
    "#I use newly created column test fatal information to complete fatal column\n",
    "data.loc[(data['Fatal'].isnull()) & (data['test fatal']==\"Y\"), 'Fatal'] = \"Y\"\n",
    "data.loc[(data['Fatal'].isnull()) & (data['test fatal']==\"N\"), 'Fatal'] = \"N\""
   ]
  },
  {
   "cell_type": "code",
   "execution_count": null,
   "metadata": {},
   "outputs": [],
   "source": [
    "#Drop remaining unwanted columns\n",
    "to_drop=['test fatal','test sex','Name','Case Number.1','Case Number.2']\n",
    "data.drop(columns=to_drop,inplace=True)"
   ]
  },
  {
   "cell_type": "code",
   "execution_count": null,
   "metadata": {},
   "outputs": [],
   "source": [
    "data.to_csv('cleaned_data_shark.csv', index=False)"
   ]
  },
  {
   "cell_type": "code",
   "execution_count": null,
   "metadata": {},
   "outputs": [],
   "source": []
  }
 ],
 "metadata": {
  "kernelspec": {
   "display_name": "Python 3",
   "language": "python",
   "name": "python3"
  },
  "language_info": {
   "codemirror_mode": {
    "name": "ipython",
    "version": 3
   },
   "file_extension": ".py",
   "mimetype": "text/x-python",
   "name": "python",
   "nbconvert_exporter": "python",
   "pygments_lexer": "ipython3",
   "version": "3.7.3"
  }
 },
 "nbformat": 4,
 "nbformat_minor": 2
}
