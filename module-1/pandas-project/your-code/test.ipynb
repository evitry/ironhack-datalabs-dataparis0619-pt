{
 "cells": [
  {
   "cell_type": "code",
   "execution_count": 2,
   "metadata": {},
   "outputs": [],
   "source": [
    "#libraries used\n",
    "import pandas as pd\n",
    "import re\n",
    "from datetime import datetime"
   ]
  },
  {
   "cell_type": "code",
   "execution_count": 3,
   "metadata": {},
   "outputs": [],
   "source": [
    "#import of the data set\n",
    "data = pd.read_csv('GSAF5.csv', encoding='latin-1')"
   ]
  },
  {
   "cell_type": "code",
   "execution_count": 4,
   "metadata": {},
   "outputs": [
    {
     "data": {
      "text/plain": [
       "Country                     43\n",
       "Area                       402\n",
       "Location                   496\n",
       "Activity                   527\n",
       "Name                       200\n",
       "Sex                        567\n",
       "Age                       2681\n",
       "Injury                      27\n",
       "Fatal (Y/N)                 19\n",
       "Time                      3213\n",
       "Species                   2934\n",
       "Investigator or Source      15\n",
       "href formula                 1\n",
       "href                         3\n",
       "Unnamed: 22               5991\n",
       "Unnamed: 23               5990\n",
       "dtype: int64"
      ]
     },
     "execution_count": 4,
     "metadata": {},
     "output_type": "execute_result"
    }
   ],
   "source": [
    "#check the number of null values per column\n",
    "null_cols = data.isnull().sum()\n",
    "null_cols[null_cols > 0]\n",
    "#Time have 3213 null values -> don't keep it because if this information is often missing, we won't be able to get a trend on the attack hour\n",
    "#Species have 2934 null values -> keep it because we might still want to know what kind of shark attack\n",
    "#Age have 2681 null values -> don't keep it as it is not an interresting information if often missing\n",
    "#I wanted to remove Name column as I don't find this information useful but sometimes it contains sex and other information"
   ]
  },
  {
   "cell_type": "code",
   "execution_count": 5,
   "metadata": {},
   "outputs": [],
   "source": [
    "#remove all desired columns from our data set\n",
    "drop_cols = ['Time','Age','Year','Case Number.1', 'Case Number.2', 'original order', 'Unnamed: 22','Unnamed: 23']\n",
    "data = data.drop(drop_cols, axis=1)"
   ]
  },
  {
   "cell_type": "code",
   "execution_count": 6,
   "metadata": {},
   "outputs": [],
   "source": [
    "#pd.to_datetime(data['Date'], format='%d/%m/%Y', errors='coerce')"
   ]
  },
  {
   "cell_type": "code",
   "execution_count": 7,
   "metadata": {},
   "outputs": [],
   "source": [
    "#function to clean the date from Case number attribute\n",
    "def clean_Date(e):\n",
    "\n",
    "    if re.search(\"[0-9]{4}.[0-9]{2}.[0-9]{2}\",e):\n",
    "        splitted_date = re.split(\"\\D\",e)\n",
    "        if splitted_date[1] == \"00\":\n",
    "            splitted_date[1] = \"01\"\n",
    "        if splitted_date[2] == \"00\":\n",
    "            splitted_date[2] = \"01\"\n",
    "        cleaned_date = datetime(int(splitted_date[0]),int(splitted_date[1]),int(splitted_date[2]))\n",
    "    else:\n",
    "        cleaned_date = \"Unknown Date\"\n",
    "    \n",
    "    return cleaned_date"
   ]
  },
  {
   "cell_type": "code",
   "execution_count": 8,
   "metadata": {},
   "outputs": [],
   "source": [
    "#function to change empty value by \"Not specified\"\n",
    "def empty_values(e):\n",
    "    if re.search(\"^$\",e):\n",
    "        e = \"Not specified\"\n",
    "    return e"
   ]
  },
  {
   "cell_type": "code",
   "execution_count": 9,
   "metadata": {},
   "outputs": [],
   "source": [
    "#apply clean_date function to our Case number column and put the calculated date into date column\n",
    "data['Date'] = data['Case Number'].apply(clean_Date)"
   ]
  },
  {
   "cell_type": "code",
   "execution_count": 10,
   "metadata": {},
   "outputs": [],
   "source": [
    "#create a new column to know if the Date did not contain day and/or month\n",
    "lst=[]\n",
    "for e in data['Case Number']:\n",
    "    if re.search(\"[0-9]{4}.0{2}.0{2}\",e) or re.search(\"[0-9]{4}.[0-9]{2}.0{2}\",e):\n",
    "        lst.append(\"Yes\")\n",
    "    else:\n",
    "        lst.append(\"No\")\n",
    "data['date_alterated'] = pd.DataFrame(lst)"
   ]
  },
  {
   "cell_type": "code",
   "execution_count": 11,
   "metadata": {},
   "outputs": [],
   "source": [
    "#function to remove space at the beginning and at the end of my string\n",
    "def remove_spaces(e):\n",
    "    if re.search(\"^ \",e):\n",
    "        e = re.sub(\"^ +\",\"\",e)\n",
    "    if re.search(\" $\",e):\n",
    "        e = re.sub(\" +$\",\"\",e)\n",
    "    return e"
   ]
  },
  {
   "cell_type": "code",
   "execution_count": 12,
   "metadata": {},
   "outputs": [
    {
     "name": "stdout",
     "output_type": "stream",
     "text": [
      "Index(['Case Number', 'Date', 'Type', 'Country', 'Area', 'Location',\n",
      "       'Activity', 'Name', 'Sex', 'Injury', 'Fatal (Y/N)', 'Species',\n",
      "       'Investigator or Source', 'pdf', 'href formula', 'href',\n",
      "       'date_alterated'],\n",
      "      dtype='object')\n"
     ]
    }
   ],
   "source": [
    "#rename our columns name by applying remove space function\n",
    "data.rename(remove_spaces,axis=1, inplace=True)\n",
    "print(data.columns)"
   ]
  },
  {
   "cell_type": "code",
   "execution_count": 13,
   "metadata": {},
   "outputs": [],
   "source": [
    "#Convert Country data into str because some are floats\n",
    "#I remove \"?\", considering the country is correct\n",
    "data['Country'] = data['Country'].astype(str)\n",
    "data['Country'] = data['Country'].str.replace('\\?', '')\n",
    "data['Country'] = data['Country'].apply(remove_spaces)"
   ]
  },
  {
   "cell_type": "code",
   "execution_count": 14,
   "metadata": {},
   "outputs": [],
   "source": [
    "#Clean Area column\n",
    "data['Area'] = data['Area'].astype(str)\n",
    "data['Area'] = data['Area'].str.replace('\\\"','')\n",
    "data['Area'] = data['Area'].str.replace(\"Tavenui\",\"Taveuni\")\n",
    "data['Area'] = data['Area'].str.replace(\"Tamilnadu\",\"Tamil Nadu\")\n",
    "data['Area'] = data['Area'].str.replace(\"Guerro\",\"Guerrero\")\n",
    "data['Area'] = data['Area'].str.replace(\"Guerrrero\",\"Guerrero\")\n",
    "data['Area'] = data['Area'].str.replace(\"islans\",\"Islands\")\n",
    "data['Area'] = data['Area'].str.replace(\"Province\",\"\")\n",
    "data['Area'] = data['Area'].str.replace(\"Region\",\"\")\n",
    "data['Area'] = data['Area'].str.replace(\"shire\",\"\")\n",
    "data['Area'] = data['Area'].apply(empty_values)\n",
    "data['Area'] = data['Area'].apply(remove_spaces)"
   ]
  },
  {
   "cell_type": "code",
   "execution_count": 15,
   "metadata": {},
   "outputs": [],
   "source": [
    "#Clean Location column\n",
    "data['Location'] = data['Location'].astype(str)\n",
    "data['Location'] = data['Location'].str.replace(\"\\(\",\"\")\n",
    "data['Location'] = data['Location'].str.replace(\"\\)\",\"\")\n",
    "data['Location'] = data['Location'].apply(empty_values)\n",
    "data['Location'] = data['Location'].apply(remove_spaces)"
   ]
  },
  {
   "cell_type": "code",
   "execution_count": null,
   "metadata": {},
   "outputs": [],
   "source": [
    "def sex_cleaning(e):\n",
    "    if e != \"F\" or e != \"M\":\n",
    "        e = \"Not specified\"\n",
    "    return e"
   ]
  },
  {
   "cell_type": "code",
   "execution_count": 16,
   "metadata": {},
   "outputs": [],
   "source": [
    "#Clean Sex column\n",
    "data['Sex'] = data['Sex'].astype(str)\n",
    "data['Sex'] = data['Sex'].apply(empty_values)\n",
    "data['Sex'] = data['Sex'].apply(remove_spaces)\n",
    "\n",
    "data['Sex'] = data['Sex'].apply(sex_cleaning)\n",
    "\n",
    "\"\"\"lst = []\n",
    "for e in data['Sex']:\n",
    "    #print(e)\n",
    "    if e != \"F\" or e != \"M\":\n",
    "        e = \"Not specified\"\n",
    "    lst.append(e)\n",
    "data['Sex'] = pd.DataFrame(lst)\"\"\""
   ]
  },
  {
   "cell_type": "code",
   "execution_count": 17,
   "metadata": {},
   "outputs": [],
   "source": [
    "#I use Name column information to get the sex if precised\n",
    "data['Name'] = data['Name'].astype(str)\n",
    "lst = []\n",
    "for e in data['Name']:\n",
    "    if re.search(\"boy.?\",e) or re.search(\"[Mm]ale.?\",e):\n",
    "        lst.append(\"M\")\n",
    "    elif re.search(\"girl.?\",e) or re.search(\"[Ff]emale.?\",e):\n",
    "        lst.append(\"F\")\n",
    "    else:\n",
    "        lst.append(\"\")\n",
    "data['test sex'] = pd.DataFrame(lst)"
   ]
  },
  {
   "cell_type": "code",
   "execution_count": 18,
   "metadata": {},
   "outputs": [
    {
     "name": "stderr",
     "output_type": "stream",
     "text": [
      "C:\\Users\\Elodie\\Anaconda3\\lib\\site-packages\\pandas\\core\\ops.py:1649: FutureWarning: elementwise comparison failed; returning scalar instead, but in the future will perform elementwise comparison\n",
      "  result = method(y)\n"
     ]
    }
   ],
   "source": [
    "#I use newly created column test sex information to complete sex column\n",
    "data.loc[(data['Sex']==\"Not specified\") & (data['test sex']==\"M\"), 'Sex'] = \"M\"\n",
    "data.loc[(data['Sex']==\"Not specified\") & data['test sex']==\"F\", 'Sex'] = \"F\"\n",
    "drop_col = ['test sex']\n",
    "data = data.drop(drop_col,axis=1)"
   ]
  },
  {
   "cell_type": "code",
   "execution_count": null,
   "metadata": {},
   "outputs": [],
   "source": [
    "def fatal_cleaning(e):\n",
    "    if e != \"N\" or e != \"Y\":\n",
    "        e = \"Not specified\"\n",
    "    return e"
   ]
  },
  {
   "cell_type": "code",
   "execution_count": 19,
   "metadata": {},
   "outputs": [],
   "source": [
    "#Clean Fatal (Y/N) column\n",
    "data['Fatal (Y/N)'] = data['Fatal (Y/N)'].astype(str)\n",
    "data['Fatal (Y/N)'] = data['Fatal (Y/N)'].apply(remove_spaces)\n",
    "\n",
    "data['Fatal (Y/N)'] = data['Fatal (Y/N)'].apply(fatal_cleaning)\n",
    "\n",
    "\"\"\"lst = []\n",
    "for e in data['Fatal (Y/N)']:\n",
    "    #print(e)\n",
    "    if e != \"N\" or e != \"Y\":\n",
    "        e = \"Not specified\"\n",
    "    \n",
    "    lst.append(e)\n",
    "\n",
    "data['Fatal (Y/N)'] = pd.DataFrame(lst)\"\"\""
   ]
  },
  {
   "cell_type": "code",
   "execution_count": 26,
   "metadata": {},
   "outputs": [
    {
     "name": "stdout",
     "output_type": "stream",
     "text": [
      "[['Surfing'], ['Surfing'], ['Surfing'], ['Surfing'], ['Surfing'], ['Fishing'], ['Wading'], ['Swimming'], ['surfing'], ['boarding'], ['Surfing'], ['boarding'], ['Spearfishing'], ['Surfing'], ['Surfing'], ['Surfing'], ['Wading'], ['Snorkeling'], ['boarding'], ['Surfing'], ['Swimming'], ['Swimming'], ['Kayaking'], ['Lobstering'], ['Surfing'], ['Surfing'], ['Surfing'], ['Spearfishing'], ['Fishing'], ['Fishing', 'Fishing'], ['Surfing'], [], ['Swimming'], ['Diving'], ['Wading'], ['Fishing'], ['Fishing'], ['Fishing'], ['Swimming'], ['Fishing'], [], ['Surfing'], ['Diving'], ['Spearfishing'], ['Floating'], ['Wading'], ['Surfing'], ['Spearfishing'], ['Floating'], ['Standing'], ['Surfing'], ['Swimming'], ['Diving'], ['Swimming'], ['Spearfishing'], ['surfing'], ['Surfing'], ['Swimming'], ['Swimming'], ['Swimming'], ['Swimming'], ['Swimming'], ['Swimming'], ['Teasing'], ['Floating'], ['Fishing'], ['Surfing'], ['Surfing'], ['skiing'], ['Swimming'], ['Spearfishing'], ['Spearfishing'], ['Walking'], [], ['Fishing'], [], ['Snorkeling'], ['Surfing'], [], ['Surfing'], [], ['Surfing'], ['surfing'], ['Diving'], [], ['Fishing'], ['Swimming'], ['surfing'], ['Spearfishing'], ['Wading'], ['Feeding', 'sting'], ['Surfing'], ['Walking'], ['Windsurfing'], ['fishing'], ['Surfing'], ['Surfing'], ['Spearfishing'], ['Fishing'], ['boarding'], ['Surfing'], ['Wading'], ['Spearfishing'], ['Fishing'], ['Swimming'], ['boarding'], ['Surfing'], ['diving'], [], ['Fishing'], ['fishing'], ['Swimming', 'Wading'], ['Surfing'], ['Swimming'], ['Surfing'], ['Surfing'], ['Surfing'], ['Swimming'], ['Wading'], ['Fishing'], ['Spearfishing'], ['boarding'], ['Surfing'], ['Surfing'], ['Surfing'], ['Fishing'], ['Surfing'], ['Swimming'], ['Fishing'], ['boarding'], ['Surfing'], ['Fishing'], ['Surfing'], ['boarding'], ['Wading'], ['Surfing'], ['Surfing'], ['Snorkeling'], ['fishing'], ['Surfing'], ['Spearfishing'], ['Wading'], ['Photographing'], ['Swimming'], ['Surfing'], ['Surfing'], ['Paddleboarding'], ['Fishing'], ['skiing'], [], ['Wading'], ['Spearfishing'], ['Surfing'], ['Surfing'], [], ['Surfing'], ['Surfing'], ['Walking'], ['Fishing'], ['Swimming'], ['Spearfishing'], ['Surfing'], ['Surfing'], ['Floating'], ['diving'], ['Fishing'], ['Surfing'], ['Surfing'], ['Surfing'], ['Surfing'], ['Treading'], ['Swimming'], ['Spearfishing'], [], ['Surfing'], ['boarding'], ['Swimming'], ['Surfing'], ['Playing'], ['Swimming'], ['Boarding'], ['Swimming'], ['Surfing'], ['Standing'], ['Swimming'], ['surfing'], ['Swimming'], ['Surfing'], ['Standing'], ['Spearfishing'], ['Swimming'], ['Wading'], ['Wading'], [], ['boarding'], ['Playing'], ['Attempting'], ['Surfing'], ['Standing'], ['Wading'], ['Spearfishing'], ['Swimming'], ['Surfing'], [], ['Snorkeling'], ['Swimming'], ['Surfing'], ['Diving'], ['Snorkeling'], ['Wading'], ['Surfing'], ['skiing'], ['Photographing'], ['boarding'], ['Surfing'], ['Surfing'], ['Spearfishing'], ['Diving'], ['Fishing'], ['Swimming'], ['Standing', 'Snorkeling'], ['feeding'], ['Fishing'], ['Fishing'], ['Sitting'], ['Rowing'], ['Swimming'], ['Surfing'], ['Surfing'], ['Bodysurfing'], ['Rowing'], ['fishing'], ['Surfing'], ['Fishing'], ['Surfing', 'filming'], ['Fishing'], ['Filming'], ['Swimming', 'falling'], ['Snorkeling'], ['Surfing'], [], ['Surfing'], ['Spearfishing'], [], ['Swimming'], ['Surfing'], ['Fishing'], ['Diving', 'Filming'], ['Spearfishing'], ['Fishing'], ['Surfing'], ['Fishing'], ['Fishing'], ['Surfing'], [], ['Snorkeling'], ['Surfing'], ['Surfing'], ['Surfing'], ['Surfing'], ['Paddleboarding'], ['Paddleboarding'], ['Canoeing'], ['Surfing'], ['Surfing'], ['Standing'], ['surfing', 'boarding'], ['Fishing'], ['Kayaking'], ['Surfing'], ['Surfing'], ['Kayaking'], ['Kayaking'], ['Surfing'], ['Surfing'], ['Surfing'], ['Feeding'], ['Surfing'], ['Swimming'], ['Fishing'], ['Kayaking'], ['Fishing'], ['Playing'], ['surfing'], ['Surfing'], [], ['Fishing'], ['Swimming'], ['Surfing'], ['Standing'], ['Fishing'], ['boarding'], ['Spearfishing'], ['Standing'], [], ['Spearfishing'], ['Swimming'], ['Swimming'], ['boarding'], ['Swimming'], ['Surfing'], ['boarding'], ['Surfing'], [], ['Swimming'], ['Surfing'], ['Standing'], ['Wading'], ['Swimming'], ['Swimming'], ['diving'], ['surfing'], ['Surfing'], ['Swimming'], ['Surfing'], ['surfing'], ['Rowing'], ['Spearfishing'], ['Surfing'], ['boarding'], ['Petting'], ['Fishing'], ['Standing'], ['boarding'], ['Surfing'], ['Kneeling'], ['Swimming'], ['Surfing'], ['Tagging'], [], ['diving'], ['Teasing'], ['Snorkeling'], ['boarding'], ['Surfing'], ['Wading'], ['Surfing'], ['Diving'], ['Swimming'], ['Surfing'], ['Spearfishing'], ['Swimming'], ['Wading'], ['watching'], ['Fishing'], ['Surfing'], ['Surfing'], ['Swimming'], ['Diving'], ['Swimming'], ['Surfing'], ['Surfing'], ['Surfing'], ['Surfing'], ['diving', 'culling'], [], ['Swimming'], ['Surfing'], ['Kitesurfing'], ['Sailing'], ['Spearfishing', 'diving'], ['Fishing'], ['Surfing'], ['Fishing'], ['Spearfishing'], [], ['Filming'], ['Snorkeling'], ['Surfing'], ['Attempting', 'fishing'], ['boarding'], ['Surfing'], ['Surfing'], ['Kayaking', 'Fishing'], ['boarding'], ['Snorkeling'], ['Surfing'], ['Surfing'], ['Surfing'], ['fishing'], ['boarding'], ['Surfing'], ['Kiteboarding'], ['Snorkeling'], ['boarding'], ['Diving'], ['Surfing'], ['Diving'], ['Surfing'], ['Wading'], ['Swimming', 'snorkeling'], ['Diving'], ['Surfing'], ['Wading'], ['Surfing'], ['Diving'], ['Standing'], ['Swimming'], ['Surfing'], ['Swimming'], ['Surfing'], [], ['Surfing'], ['Standing'], ['Swimming'], [], [], ['Casting'], ['Spearfishing'], ['Swimming'], ['swimming'], ['fishing'], ['boarding'], ['Wrangling'], ['Surfing'], ['Surfing'], ['Snorkeling'], ['Kiteboarding'], ['Surfing'], ['Attempting'], ['Fishing'], ['Snorkeling'], ['Swimming'], ['Spearfishing'], ['Wading'], ['Surfing'], ['Cleaning'], ['Diving'], ['Swimming'], ['Walking'], ['Swimming'], ['Swimming', 'snorkeling'], ['Swimming'], ['Wading'], ['Swimming'], ['surfing'], ['Fishing'], [], ['Kayaking', 'Fishing'], ['Swimming'], ['Swimming'], ['Swimming'], ['Swimming'], ['Surfing'], ['Surfing'], ['Boarding'], ['Fishing'], ['Surfing'], ['Diving'], ['Swimming'], [], ['Fishing'], ['Surfing'], ['Surfing'], ['boarding'], ['Surfing'], ['Fishing'], ['Swimming'], ['Fishing'], ['Playing'], ['diving'], ['Surfing'], [], ['boarding'], ['Swimming'], [], ['Surfing'], ['Surfing'], ['diving'], ['Snorkeling'], ['fishing'], ['Fishing'], ['Surfing'], ['Spearfishing'], ['Spearfishing'], ['Swimming'], ['Swimming'], ['Swimming'], ['Surfing'], ['Surfing'], ['Surfing'], ['diving'], [], ['Fishing'], ['Surfing'], ['Dragging'], ['Surfing'], ['Spearfishing'], ['Spearfishing', 'diving'], ['Swimming'], ['Surfing'], ['boarding'], ['Swimming'], ['Surfing'], ['Surfing'], ['Spearfishing'], ['diving'], ['Snorkeling'], [], ['Swimming'], ['Surfing'], ['Diving'], ['Surfing'], ['Surfing'], ['Swimming'], ['Surfing'], [], ['Surfing'], ['boarding'], [], ['Bathing'], ['Windsurfing'], ['Bodyboarding'], ['Surfing'], ['Surfing'], ['Surfing'], ['Swimming'], ['Surfing'], ['Surfing'], ['Swimming'], ['Surfing'], ['Surfing'], ['Surfing'], ['boarding'], ['Spearfishing'], ['Swimming', 'boarding'], ['fishing'], ['Surfing'], ['Swimming'], ['Wading', 'swimming'], ['Fishing'], ['diving'], ['Surfing'], ['Spearfishing'], ['Surfing'], ['Surfing'], ['Surfing'], ['surfing'], [], ['Surfing'], ['Swimming'], ['Surfing'], ['Surfing'], ['Swimming'], ['Spearfishing'], ['diving'], ['Kayaking'], ['Surfing'], ['Swimming'], ['Swimming'], ['Surfing'], ['Sitting'], ['Surfing'], ['Swimming'], ['skiing'], ['Standing'], ['Wading'], ['Fishing'], ['Swimming'], ['Swimming'], ['Swimming'], ['Swimming'], ['Surfing'], ['Attempting'], ['skiing'], ['Surfing'], ['Boarding'], ['Wading'], ['diving', 'spearfishing'], ['Surfing'], ['Fishing'], ['Spearfishing'], ['Kayaking', 'Fishing'], ['Swimming'], ['boarding'], ['Surfing'], ['boarding'], ['Kayaking'], ['Surfing'], [], ['diving'], ['Surfing'], ['Crayfishing'], ['Surfing'], ['Surfing'], ['Surfing'], ['Surfing'], ['Surfing'], ['Diving', 'feeding'], ['boarding'], ['Surfing'], ['Attempting'], ['Fishing'], ['Surfing'], ['Fishing'], ['Fishing'], ['Surfing'], ['Diving', 'photographing'], ['Snorkeling'], ['Snorkeling'], ['Fishing'], ['Surfing'], ['Swimming'], ['Surfing'], ['Surfing'], ['Spearfishing'], [], ['Swimming'], ['Surfing'], ['Surfing'], ['Canoeing'], ['Fishing'], ['Surfing'], ['skiing'], ['Surfing'], ['Surfing'], ['Spearfishing'], ['Surfing'], ['Surfing'], ['Swimming'], ['Kayaking'], ['diving'], ['Surfing'], ['diving', 'spearfishing'], ['Surfing'], ['Surfing'], ['Diving'], ['Diving'], ['Surfing'], ['Diving'], ['Surfing'], ['Surfing'], ['Swimming'], ['Canoeing'], ['fishing'], [], ['Surfing'], ['Fishing'], ['Swimming'], ['Spearfishing'], ['Jumping'], ['Canoeing'], ['boarding'], ['Swimming'], ['Surfing'], ['Surfing'], ['Surfing'], ['Surfing'], ['boarding'], ['Surfing'], ['Surfing'], ['Swimming'], ['Fishing'], ['Standing', 'collecting'], ['Surfing'], [], ['Surfing'], ['Swimming'], ['Wading'], [], ['Swimming'], ['Surfing'], ['Floating'], ['Swimming', 'Snorkeling'], ['Playing'], ['Swimming'], ['Diving'], ['Swimming'], [], ['Fishing'], ['Surfing'], ['Boarding'], ['Kayaking', 'skiing'], ['fishing'], ['diving'], ['Swimming'], ['Fishing'], ['Surfing'], ['Kayaking'], ['Snorkeling'], ['Surfing'], ['diving'], ['Playing'], ['Surfing'], ['skiing'], ['Spearfishing'], ['Surfing'], ['Boarding'], ['Fishing'], ['diving'], ['Spearfishing'], ['Spearfishing'], ['Wading'], ['Snorkeling'], ['Standing'], ['Surfing'], ['Surfing'], ['boarding'], ['Boarding'], ['Spearfishing'], ['surfing'], ['Surfing'], ['Fishing'], ['Fishing'], ['Spearfishing'], ['Spearfishing'], ['Washing'], ['Surfing'], ['Surfing'], ['Surfing'], ['Diving'], ['Standing', 'holding'], ['Swimming'], ['Surfing'], ['Swimming'], ['Diving', 'fishing'], ['Wakeboarding'], [], ['Surfing'], ['Fishing'], ['Spearfishing'], ['Surfing'], ['Diving'], ['Fishing'], ['Snorkeling'], ['fishing'], ['fishing'], ['Swimming'], ['fishing'], ['diving'], ['Swimming'], ['Surfing'], ['Attempting'], ['Fishing'], ['boarding'], ['Surfing'], ['Surfing'], ['Snorkeling'], ['Surfing'], ['Snorkeling'], ['Snorkeling'], ['Snorkeling'], ['Snorkeling'], ['Fishing'], ['Swimming'], ['Snorkeling'], ['Diving'], ['Surfing'], ['Fishing'], ['Snorkeling'], ['Spearfishing'], ['Surfing'], ['Fishing'], ['diving'], ['Surfing'], ['boarding'], ['Snorkeling'], ['Surfing'], ['Snorkeling'], ['Surfing'], ['Surfing'], ['Surfing'], ['Surfing'], ['Swimming'], ['Surfing'], ['Swimming'], ['Swimming', 'Watching'], ['Surfing'], ['Surfing'], ['Surfing'], [], ['Swimming'], ['Boarding'], ['Surfing'], ['Fishing'], ['Fishing'], ['Swimming'], ['Surfing'], ['Surfing'], ['Windsurfing'], ['Swimming'], ['Kayaking'], ['Standing'], ['Standing'], ['Surfing'], ['Swimming'], ['Swimming'], ['Surfing'], ['Swimming'], ['Fishing'], ['Fishing'], ['Snorkeling'], ['Fishing'], ['Surfing'], ['Paddleboarding'], ['Surfing'], ['Boarding'], ['Swimming'], ['Swimming'], ['Boarding'], ['Surfing'], ['Surfing'], ['Fishing'], ['Rescuing'], ['Swimming'], ['Surfing'], ['diving'], ['Wading'], ['Measuring'], ['Surfing'], ['Surfing'], ['Swimming', 'treading'], ['Surfing'], ['Swimming'], ['Surfing'], ['diving'], ['Snorkeling'], ['Surfing'], ['Spearfishing'], ['boarding'], ['fishing', 'wading'], ['Spearfishing', 'diving'], ['Boarding'], ['Boarding'], ['Surfing'], ['Surfing'], ['Surfing'], ['Surfing'], ['Standing'], ['Snorkeling'], [], [], ['Bathing'], ['Spearfishing'], ['Surfing'], ['Wading'], ['Swimming'], ['Swimming'], ['Kayaking'], ['Spearfishing'], ['Paddling'], ['Surfing'], ['Swimming'], ['Surfing'], ['Rowing'], ['Diving'], ['Surfing'], ['Wading'], ['Fishing'], ['Surfing'], ['Surfing'], ['Surfing'], ['Kayaking'], ['Surfing'], ['Kayaking'], ['Spearfishing'], ['boarding'], ['Surfing'], ['Surfing'], ['Wading'], ['Diving'], ['Diving'], ['Surfing'], ['Fishing'], ['Swimming'], [], ['Fishing'], [], ['Swimming'], ['Swimming', 'attempting', 'drowning'], ['Swimming'], ['Fishing'], ['Surfing'], ['Surfing'], ['Swimming'], ['boarding'], ['Swimming'], ['Surfing'], ['Fishing'], ['Spearfishing'], ['Surfing'], ['Swimming'], ['Washing'], ['Wading'], ['Swimming'], ['Swimming'], ['Swimming'], ['Swimming'], ['Spearfishing'], ['surfing'], ['Surfing'], ['Boarding'], ['Swimming'], ['Surfing'], ['Surfing'], ['Crawling'], ['Fishing'], ['diving'], ['diving'], ['Snorkeling'], ['Fishing'], ['Swimming'], ['Surfing'], ['Surfing'], ['Surfing'], ['Spearfishing'], ['Spearfishing'], [], ['Surfing'], ['Surfing'], ['Swimming'], ['Surfing'], ['skiing'], ['Surfing'], ['Spearfishing'], ['Swimming'], ['Spearfishing'], ['Wading'], ['Fishing'], ['Surfing'], ['Surfing'], ['Surfing'], ['Surfing'], ['Surfing'], ['Feeding'], ['Swimming'], ['Wading'], ['Surfing'], ['Fishing'], ['Fishing'], ['Surfing'], ['Fishing'], ['Surfing'], ['Surfing'], ['Diving'], [], ['Surfing'], ['Surfing'], ['Fishing'], [], ['Spearfishing'], ['Fishing'], ['Swimming'], ['Swimming'], ['Swimming'], ['Fishing'], ['Surfing'], [], ['Snorkeling'], ['Surfing'], ['Surfing'], ['Fishing'], ['Surfing'], ['Swimming'], ['Spearfishing'], ['Crabbing'], [], ['Boarding'], ['Kayaking'], ['Snorkeling'], ['Kayaking'], ['Fishing'], ['Fishing'], ['Fishing'], ['Spearfishing'], ['diving'], ['Sinking'], [], ['Fishing'], ['Fishing'], ['Fishing'], ['diving'], ['Spearfishing'], ['Fishing'], ['Surfing'], ['Fishing'], ['Spearfishing'], ['Surfing'], ['Surfing'], ['Swimming'], ['Swimming'], ['Surfing'], ['Surfing'], ['Surfing'], ['Surfing'], ['Surfing'], ['Surfing'], ['Surfing'], ['Surfing'], ['Swimming'], ['Fishing'], ['Surfing'], ['Surfing'], ['Swimming', 'towing'], ['Surfing'], ['Swimming'], [], ['Treading'], ['Wading'], ['Diving'], ['Surfing'], [], ['Swimming', 'surfing'], ['Swimming'], ['Swimming'], ['Surfing'], ['Snorkeling'], ['Wading'], ['Wading'], ['Surfing'], ['Wading'], ['Diving'], ['surfing'], ['Surfing'], ['Swimming'], [], ['Rowing', 'ding'], ['Wading'], ['Spearfishing'], ['skiing'], ['Spearfishing', 'diving'], ['Surfing'], ['Swimming'], ['Surfing'], ['Kayaking'], ['Wading'], ['Surfing'], ['surfing'], ['Fishing'], ['surfing'], ['Swimming'], ['Surfing'], [], ['Surfing'], ['Surfing'], ['diving'], ['Swimming'], ['Fishing'], ['Wading'], ['Fishing'], ['Surfing'], ['Surfing'], ['Surfing'], ['Swimming'], ['Surfing'], ['Swimming'], ['Surfing'], [], ['diving'], ['Swimming'], ['Surfing'], ['Surfing'], ['Boarding'], ['Spearfishing'], ['Surfing'], ['boarding'], ['Walking', 'surfing'], ['Fishing'], ['Surfing'], ['Wading'], ['Walking', 'surfing'], ['Wading'], ['skiing'], ['Surfing'], ['Diving'], ['Spearfishing'], ['Surfing'], ['Surfing'], ['skiing'], ['skiing'], ['attempting'], ['Wading'], ['Attempting'], ['Surfing'], ['Fishing'], ['Surfing'], ['Surfing'], ['diving'], ['Surfing'], ['Swimming'], ['Swimming'], ['Surfing'], ['Surfing'], ['Removing'], ['Fishing'], ['Surfing'], ['Surfing'], ['Surfing'], ['Surfing'], ['Surfing'], ['diving'], ['Floating'], ['skiing'], ['Spearfishing'], ['Surfing'], ['Surfing'], ['Surfing'], [], ['Swimming'], ['Spearfishing'], ['Surfing'], ['Swimming'], ['diving'], ['Surfing'], ['Surfing'], ['Spearfishing'], ['Wading'], ['Surfing'], ['Snorkeling'], ['Wading'], ['Wading'], ['Standing'], ['Jumping'], ['Swimming'], ['boarding'], ['Surfing'], ['Surfing'], ['Surfing'], ['Diving'], ['Fishing'], ['Swimming'], ['Surfing'], ['Playing'], ['Floating', 'observing'], ['Swimming'], ['Walking', 'surfing'], ['Swimming'], ['Boarding'], [], ['Surfing'], ['Surfing'], ['paddling'], ['Fishing'], ['Snorkeling'], ['Wading'], ['Swimming'], ['diving'], ['Swimming'], ['Wading'], ['Spearfishing'], ['Surfing'], ['boarding'], [], ['Removing'], ['Swimming'], ['Surfing'], ['Surfing'], ['Surfing'], ['Swimming'], ['Surfing'], ['Wading'], ['Reviving'], ['Fishing'], ['Wading'], ['Surfing'], ['Surfing'], ['Snorkeling'], ['Swimming'], ['Snorkeling'], ['Swimming'], [], ['tagging'], ['Swimming', 'jumping'], ['boarding'], ['Surfing'], ['Fishing'], ['Surfing'], ['Playing'], ['Surfing'], [], [], ['Surfing'], ['Surfing'], ['fishing'], ['Swimming'], ['Surfing'], ['Spearfishing'], ['Swimming'], ['Boarding'], ['Spearfishing'], ['Spearfishing', 'diving'], ['Shrimping'], ['Diving'], ['Swimming'], ['Swimming', 'Surfing'], ['Surfing'], ['Surfing'], ['Surfing'], ['Surfing'], ['Surfing'], ['Surfing'], ['Fishing'], ['boarding'], [], ['Swimming'], ['Canoeing'], ['Surfing'], ['Fishing'], ['Surfing'], ['Surfing'], ['Playing'], ['diving', 'modeling'], [], ['Spearfishing'], ['Surfing'], ['Diving', 'Kissing'], ['Surfing'], ['Swimming'], ['Surfing'], ['Diving'], [], ['Standing'], ['Swimming'], ['Surfing'], ['Surfing'], ['Surfing'], ['boarding'], [], ['Spearfishing'], [], ['Surfing'], ['Surfing'], ['Lifesaving'], ['Wading'], ['Spearfishing'], ['Touching'], ['Surfing'], ['Boarding'], ['Surfing'], ['skiing'], ['Surfing'], ['fishing'], [], ['Standing'], ['Swimming'], ['Swimming'], [], ['Wading'], ['Walking'], ['boarding'], ['Swimming'], ['Spearfishing'], ['Spearfishing'], ['boarding'], ['Fishing'], ['Spearfishing'], ['Surfing'], ['boarding'], ['diving'], ['Surfing'], ['Playing'], ['Surfing'], ['Spearfishing'], ['Tagging'], ['Surfing'], ['Spearfishing'], ['Surfing'], ['diving'], [], ['Swimming'], ['Snorkeling'], [], ['Surfing'], ['Standing'], ['Fishing'], ['Surfing'], ['boarding'], ['Swimming'], ['Wading'], ['Fishing'], ['Surfing'], ['Swimming'], ['Surfing'], ['Surfing'], ['Standing'], ['diving'], ['Wading'], ['Swimming'], ['Fishing'], ['Surfing'], ['Swimming'], ['Kayaking'], ['Competing', 'Rowing'], ['Spearfishing'], ['Competing', 'Rowing'], ['Surfing'], ['diving'], ['Diving'], ['Swimming'], ['Surfing'], ['Diving'], ['Surfing'], ['Swimming'], ['Competing', 'Rowing'], ['Spearfishing'], ['Fishing'], ['Surfing'], ['Surfing'], ['Fishing'], ['Surfing'], ['Surfing'], ['Spearfishing'], ['Surfing'], ['Surfing'], [], ['Fishing'], ['Surfing'], ['Surfing'], ['Surfing'], ['Wading'], ['Standing'], ['Standing', 'Surfing'], ['Surfing'], ['Surfing'], ['Wading'], ['Surfing'], ['diving'], ['Treading', 'Surfing'], ['Diving'], ['skiing'], ['Surfing'], ['Surfing'], ['Surfing'], ['Surfing'], ['surfing'], ['Surfing'], ['Standing'], ['Wading'], ['Surfing'], ['Standing', 'Surfing'], ['Removing'], ['diving'], ['Surfing'], ['boarding'], ['Swimming'], ['Walking'], [], ['Surfing'], ['Swimming'], ['Fishing'], ['Wading'], ['Surfing'], ['Surfing'], ['Swimming'], ['diving'], [], ['Swimming'], ['Holding'], ['Standing'], ['Fishing'], ['Swimming'], ['Swimming'], ['Surfing'], ['Swimming'], ['Swimming'], ['Diving'], ['boarding'], ['Surfing'], ['Spearfishing', 'diving'], ['Wading'], ['Swimming'], ['Crouching'], ['Surfing'], ['Spearfishing'], ['Kayaking'], ['Fishing'], [], ['Surfing'], ['Fishing'], [], ['Spearfishing'], ['Surfing'], ['Wading'], ['Surfing'], ['Surfing'], [], ['Diving'], ['Surfing'], ['Surfing'], ['Surfing'], ['Snorkeling'], ['Diving'], [], ['Fishing'], ['Diving'], ['Swimming'], ['Spearfishing'], ['Surfing'], ['Spearfishing'], ['Surfing'], ['Swimming'], ['Spearfishing'], ['Attempting', 'sailing'], ['Fishing'], [], ['Scurfing', 'being'], ['Spearfishing'], ['Surfing'], ['Playing'], ['Swimming'], ['Surfing'], ['Snorkeling'], ['Diving'], ['Diving'], [], ['Chumming'], ['Surfing'], ['Surfing'], ['Spearfishing'], ['Surfing'], ['boarding'], ['Surfing'], ['Surfing'], ['Spearfishing', 'filming'], ['Surfing'], ['fishing'], ['Swimming'], ['Jumping'], ['Walking'], ['Bathing'], ['Surfing'], ['Diving'], ['Swimming'], ['Spearfishing'], ['Fishing'], ['Surfing'], ['Diving', 'fishing'], ['Surfing'], ['Swimming'], ['Swimming'], ['Wading', 'fishing', 'carrying'], ['Fishing'], ['Fishing'], ['Surfing'], ['Snorkeling'], ['Wading'], ['Surfing'], ['Crayfishing'], ['diving'], ['boarding'], ['Swimming'], ['Swimming', 'poaching'], ['Wading'], ['Swimming'], ['Surfing'], ['boarding', 'swimming'], ['Swimming'], [], ['Wading'], ['diving', 'spearfishing'], ['surfing'], ['Swimming'], ['Diving'], ['Fishing'], ['fishing'], ['fishing'], ['Surfing'], ['Surfing'], ['Surfing'], [], ['Surfing'], ['boarding'], ['Surfing'], ['Surfing'], ['Swimming'], ['Snorkeling'], ['Spearfishing'], ['Surfing'], ['Spearfishing'], ['Swimming'], ['Surfing'], ['Swimming'], ['diving', 'spearfishing'], ['Snorkeling'], ['Snorkeling'], ['diving'], ['Surfing'], ['boarding'], ['Swimming'], ['Spearfishing'], ['skiing'], ['Diving'], ['Surfing'], ['Kayaking', 'returning', 'spearfishing'], ['Boeing'], ['Surfing'], [], ['Swimming'], ['Swimming'], ['Swimming'], ['Surfing'], ['Swimming'], ['Swimming'], ['Spearfishing'], ['Surfing'], ['Swimming', 'surfing'], ['Surfing'], ['Snorkeling'], ['skiing'], ['Standing'], ['Spearfishing'], ['Surfing'], ['Surfing'], ['Surfing'], ['Surfing'], ['Snorkeling'], ['Surfing'], ['Swimming'], ['Surfing'], ['Surfing'], ['Surfing'], ['Sitting'], ['Wading', 'fishing'], ['Wading'], ['Surfing'], ['Surfing'], ['Surfing'], ['Surfing'], ['Surfing'], ['Fishing'], ['Swimming'], ['boarding'], ['Standing'], ['boarding'], ['fishing'], ['Fishing'], ['Swimming', 'wearing'], ['Swimming'], ['Sitting'], ['skiing'], ['Surfing'], ['Wading'], ['Spearfishing'], ['Walking', 'carrying'], ['Surfing'], ['Spearfishing'], ['Spearfishing'], ['Spearfishing'], ['Snorkeling'], ['Surfing'], ['Surfing'], [], ['Standing'], ['Swimming'], ['Swimming'], ['Surfing'], ['Surfing'], ['Swimming'], ['Surfing'], ['Wading'], ['Swimming'], ['Surfing'], ['Walking'], [], ['Killing'], ['Swimming'], ['Surfing'], ['Swimming'], ['Surfing'], ['Surfing'], ['Surfing'], ['Surfing'], ['Surfing'], ['Jumping'], ['Surfing'], ['Swimming', 'using'], ['Surfing'], ['Surfing'], ['Surfing'], ['Petting'], ['diving'], ['Wading'], ['Swimming'], ['Swimming'], ['Swimming'], [], ['Surfing'], ['Surfing'], ['Snorkeling'], ['Snorkeling'], ['diving'], ['Swimming'], ['Swimming'], ['Surfing'], ['diving'], ['boarding'], ['Swimming'], ['Snorkeling'], ['Surfing'], ['boarding'], ['Fishing', 'standing'], ['Swimming'], ['Swimming'], ['Surfing'], ['Surfing'], ['Surfing'], ['Surfing'], ['Surfing'], ['Surfing'], ['Fishing'], ['Fishing'], ['Swimming'], ['boarding', 'Surfing'], ['Surfing'], ['Swimming'], ['boarding'], ['skiing'], ['boarding'], ['Wading'], ['Surfing'], ['Swimming'], ['Surfing'], ['Surfing'], ['Standing'], ['Diving'], ['Standing'], ['Surfing'], ['Swimming'], ['Surfing'], ['Fishing'], ['Surfing'], ['Standing'], ['Surfing'], ['Swimming'], [], [], ['Attempting', 'ding'], ['Sitting'], ['Surfing'], ['Surfing'], ['Swimming'], ['Snorkeling', 'filming'], ['Surfing'], ['Floating'], ['Fishing', 'removing'], ['Playing'], ['Surfing'], ['Collecting'], ['Fishing'], ['Surfing'], ['Fishing'], ['diving', 'using'], ['Fishing'], ['Surfing', 'standing'], ['Surfing'], ['Swimming'], ['Standing'], ['Wading'], ['Swimming', 'Wading'], ['boarding'], ['Wading'], ['Swimming'], ['Swimming', 'boarding'], ['Snorkeling'], ['Surfing'], ['Spearfishing'], ['fishing'], ['Surfing'], [], ['Kayaking'], ['Surfing'], ['Swimming'], ['Fishing'], ['Swimming'], ['skiing'], ['Snorkeling'], ['Surfing'], ['Surfing'], ['Surfing'], ['skiing'], ['Boarding'], ['Snorkeling'], ['surfing'], [], ['Surfing'], ['Surfing'], ['diving'], ['boarding'], ['Surfing'], ['Diving'], ['Fishing'], ['Walking'], ['Swimming'], ['Swimming'], ['Swimming'], ['Wading'], ['Swimming'], ['Spearfishing'], ['Standing'], ['Wading'], ['Boarding'], ['Boarding'], ['Surfing'], ['Surfing'], ['Surfing'], ['Surfing'], ['Surfing'], ['Surfing'], ['Surfing'], ['Surfing'], ['Spearfishing'], [], [], ['Swimming'], ['Fishing'], [], [], [], ['Fishing'], ['Surfing'], ['boarding'], ['Surfing'], ['Swimming'], [], ['Floating'], ['Swimming'], ['Spearfishing'], ['Hiking'], ['Wading'], [], ['Swimming'], ['Swimming'], ['fishing'], [], ['Surfing'], ['Surfing'], ['Surfing'], ['Spearfishing', 'carrying'], ['boarding'], ['Surfing'], ['Surfing'], [], ['Surfing'], ['Surfing'], ['boarding'], ['Surfing'], ['Surfing'], ['Surfing'], ['Surfing'], ['Surfing'], ['Surfing'], ['Snorkeling'], ['Standing'], [], ['Surfing'], ['boarding'], ['Surfing'], ['Attempting'], ['Swimming'], ['Sinking'], ['Fishing', 'whiting'], [], ['Surfing'], ['Kayaking'], ['Swimming'], ['Fishing'], ['Surfing'], ['Kayaking'], ['diving'], ['Swimming'], ['Fishing', 'whiting'], ['Diving'], ['Spearfishing'], ['Surfing'], ['Diving'], [], ['Swimming'], ['Walking'], ['Swimming'], ['Swimming'], ['Surfing'], ['Fishing'], ['Surfing'], ['Swimming', 'snorkeling'], ['Swimming'], ['Surfing'], ['Surfing'], ['surfing'], ['Surfing'], ['Sitting'], ['Surfing'], ['Surfing'], [], ['Surfing'], [], ['Standing', 'surfing'], ['Surfing'], ['Swimming', 'surfing'], ['Swimming'], ['diving'], ['Swimming'], ['Wading'], ['Surfing'], ['Swimming'], ['Swimming'], [], ['Conducting'], ['Swimming'], ['Windsurfing', 'sitting'], ['Surfing', 'Wading'], ['Standing'], ['Swimming'], ['Attempting'], ['Swimming'], [], ['Snorkeling'], ['Surfing'], ['Surfing'], ['Surfing'], ['Surfing'], ['Surfing'], ['diving'], ['Wading'], ['Swimming'], ['Jumping'], ['Playing'], ['Wading'], ['Spearfishing', 'holding'], ['Wading'], ['Standing'], ['Swimming'], [], ['Fishing'], ['Standing'], ['Sailing'], ['Surfing'], ['Swimming'], ['Swimming'], ['Snorkeling'], ['Swimming'], ['killing'], [], ['Standing'], ['Diving'], ['Walking'], ['boarding', 'wading'], ['Fishing'], ['Swimming'], ['boarding'], ['Surfing'], ['Spearfishing'], ['Surfing'], ['Rowing'], ['Rowing'], ['Kayaking'], ['Swimming'], ['Spearfishing'], [], ['surfing'], ['Feeding'], ['Surfing'], ['Surfing'], [], ['Diving'], ['Fishing'], ['Surfing'], ['Swimming'], ['Bathing'], ['Surfing'], ['diving'], ['Spearfishing'], ['Surfing'], ['Surfing'], ['Swimming'], ['Surfing', 'sitting'], ['Surfing'], ['Spearfishing', 'swimming'], ['Swimming'], ['Swimming'], ['boarding'], ['surfing'], ['Surfing'], ['Surfing', 'lying'], ['Wading', 'surfing'], ['Fishing'], ['Wading'], ['Wading'], ['Surfing'], ['Wading'], ['Wading'], ['Surfing'], ['Surfing'], ['Fishing'], ['Surfing'], ['Lying'], ['surfing'], ['Spearfishing', 'holding'], ['Surfing'], ['Swimming'], ['Surfing'], ['boarding'], [], ['Wading'], ['Surfing'], [], ['Surfing'], ['Swimming'], ['Splashing', 'wading'], ['Windsurfing'], ['Surfing'], ['Swimming'], ['Swimming', 'being'], ['Surfing'], ['Spearfishing', 'diving'], [], ['Swimming', 'towing'], ['Spearfishing'], ['Fishing'], ['surfing', 'boarding'], ['Swimming'], ['Cruising'], ['Surfing'], ['Surfing'], ['Spearfishing'], ['Skiing'], [], ['Fishing'], ['Spearfishing'], ['Spearfishing'], ['surfing'], ['Surfing'], ['Standing'], ['Surfing'], ['Splashing'], ['Surfing'], ['Swimming'], ['Surfing'], ['Walking'], ['Surfing'], ['Fishing'], ['Surfing'], ['Swimming'], ['Surfing'], ['Surfing'], ['Surfing'], ['Diving'], [], ['Surfing'], ['Surfing'], ['Fishing', 'washing'], ['Surfing'], ['Spearfishing'], ['Surfing'], ['Fishing'], ['boarding'], ['Spearfishing'], ['Spearfishing'], ['boarding'], ['Moving'], ['Surfing', 'boarding'], ['Spearfishing'], ['Surfing'], ['Surfing'], ['Wading'], ['Surfing'], ['Surfing'], ['diving'], ['Boarding'], ['Surfing'], ['Surfing'], ['Surfing'], ['boarding'], ['boarding'], ['Surfing'], ['Swimming'], ['Swimming', 'surfing'], ['boarding'], ['Towing', 'ding'], ['Surfing', 'lying'], ['diving'], ['Swimming'], [], ['Swimming'], ['Snorkeling', 'hunting'], ['Swimming', 'boarding'], ['Swimming'], ['Spearfishing'], ['Windsurfing'], ['Bathing'], ['Surfing'], ['Surfing'], ['Surfing'], ['Surfing'], ['Diving'], ['Spearfishing', 'transferring', 'string'], ['Spearfishing'], ['Sitting'], [], ['Swimming'], ['diving', 'riding'], ['Swimming'], [], ['skiing'], ['boarding', 'surfing'], ['Surfing'], ['Surfing'], ['Fishing'], ['Swimming'], ['Swimming'], ['Surfing'], ['Surfing'], ['Surfing'], ['Surfing'], ['Walking', 'surfing'], ['Surfing', 'sitting'], ['diving'], ['diving'], ['Floating'], ['Fishing'], ['Fishing'], ['boarding'], ['Surfing'], ['Wading'], ['fishing'], ['surfing'], ['Wading', 'Surfing'], ['Surfing'], ['Surfing'], ['Surfing'], ['Standing'], ['Fishing'], ['Surfing'], ['Spearfishing', 'diving'], ['Snorkeling'], ['Surfing'], ['Bathing'], ['surfing'], ['Spearfishing'], ['Surfing'], ['Surfing'], ['Spearfishing'], ['Spearfishing'], ['Windsurfing'], ['Swimming'], ['diving'], [], [], ['Rowing'], ['Snorkeling'], ['Windsurfing'], ['Spearfishing'], ['Watching'], ['Surfing'], ['Surfing'], ['Spearfishing'], ['Attempting'], ['Surfing'], ['Surfing'], ['Surfing'], ['Surfing'], ['Swimming', 'snorkeling'], ['Surfing'], ['Surfing'], ['Surfing'], [], ['Swimming'], ['Diving'], ['Surfing', 'Swimming'], ['Standing'], ['Sitting'], ['boarding'], ['Spearfishing'], ['Boarding'], ['diving'], ['fishing'], ['Standing'], ['Swimming'], ['diving'], ['Swimming'], ['Swimming'], [], [], ['Standing'], ['Diving'], ['surfing'], ['Surfing'], ['Surfing'], ['Surfing'], ['diving'], ['Surfing'], ['Diving'], ['Surfing'], [], ['Swimming'], ['Swimming'], ['Swimming'], ['Swimming'], ['Fishing'], [], ['Swimming'], [], [], ['Diving'], ['Boeing'], ['Swimming'], ['Wading'], ['Swimming'], ['Swimming'], [], ['Chumming'], ['Surfing'], [], ['Surfing'], [], ['Diving', 'gathering'], [], [], [], ['boarding'], ['Surfing'], ['Playing', 'standing'], ['Surfing'], ['Surfing'], ['Surfing'], ['Windsurfing'], ['Surfing'], ['Swimming'], ['boarding'], ['diving'], ['diving', 'using', 'calving'], ['diving', 'using', 'resting'], ['Swimming'], ['Surfing'], [], ['Surfing'], ['Surfing'], ['Surfing'], ['Swimming'], ['Swimming'], ['Surfing'], ['Diving'], ['Fishing'], ['Wading'], ['Swimming'], ['Surfing'], ['Riding'], ['boarding'], ['Fishing'], ['Diving'], ['Surfing'], ['Surfing'], ['Surfing'], ['Standing'], [], ['Swimming'], ['boarding'], ['Surfing'], ['Surfing'], ['Surfing'], ['Fishing'], [], ['diving', 'ascending', 'using'], ['Kayaking'], ['Playing', 'jumping'], ['Surfing'], ['Swimming'], ['Swimming'], ['Swimming'], ['Swimming'], ['Swimming'], ['Diving'], ['Surfing'], ['Sleeping'], [], ['Diving'], [], [], ['Diving'], ['diving'], ['skiing'], ['Surfing'], ['Swimming'], ['Swimming'], ['surfing'], ['Swimming'], ['Surfing'], ['Diving'], ['Snorkeling'], ['diving'], [], ['boarding'], ['Surfing', 'sitting'], ['Surfing'], ['Surfing'], [], [], ['treading'], ['Surfing'], ['Spearfishing'], ['Surfing', 'paddling'], ['Surfing'], ['Surfing'], ['Surfing'], ['Wading'], ['Surfing'], ['Swimming'], ['Surfing'], [], [], [], ['Surfing'], ['Swimming'], ['Windsurfing'], ['Surfing'], ['Surfing'], ['Surfing'], ['Surfing'], ['Spearfishing'], ['Surfing'], ['Surfing'], ['Spearfishing'], ['Wading'], ['Wading'], ['Surfing'], [], [], ['Wading'], ['Freediving'], ['Spearfishing'], ['Swimming'], ['Swimming'], ['Removing'], ['Surfing'], ['Spearfishing'], ['Surfing'], ['Fishing'], ['Surfing'], ['Fishing'], ['Swimming'], ['Surfing'], ['Windsurfing'], ['Fishing'], ['Swimming', 'falling'], ['Swimming'], ['Playing'], ['Surfing'], ['Surfing'], ['Swimming'], ['diving'], ['Surfing', 'paddling'], ['Stamding'], ['Surfing'], ['Swimming'], ['Kayaking'], ['Surfing'], ['Swimming'], ['Spearfishing'], ['Surfing'], ['Surfing'], ['Wading'], [], ['Swimming'], ['Spearfishing'], ['Surfing'], ['Surfing', 'paddling'], ['Watching', 'feeding'], ['Riding'], ['Fishing'], ['diving', 'ascending'], ['Fishing'], ['fishing'], ['Surfing'], ['Playing'], ['Swimming'], ['boarding'], ['Swimming'], ['diving'], ['Paddling'], ['diving'], ['diving'], ['Swimming'], ['Swimming'], [], ['Swimming'], ['Spearfishing'], ['Surfing'], ['Floating'], [], ['Paddling'], ['diving', 'spearfishing', 'ascending'], ['Swimming'], [], [], ['Fishing'], ['boarding'], ['Spearfishing'], [], ['Surfing'], ['Surfing'], [], ['Spearfishing'], ['Snorkeling'], ['Standing', 'helping', 'containing'], ['Lying'], ['Spearfishing', 'diving'], ['Surfing'], ['Surfing'], ['Kayaking'], ['diving'], ['diving'], ['Surfing'], ['boarding'], ['diving'], ['Surfing'], ['diving'], ['boarding'], ['Surfing'], ['boarding'], ['Surfing'], ['Standing'], ['Swimming'], ['fishing'], ['Snorkeling', 'carrying'], ['Surfing'], ['fishing'], ['Surfing'], ['Snorkeling'], [], ['fishing'], ['Standing'], ['Surfing'], ['Surfing'], ['Swimming'], ['Surfing'], ['Swimming'], ['Preparing'], ['Diving'], ['diving'], ['Surfing'], ['diving', 'filming'], ['Snorkeling'], ['Surfing'], ['Surfing', 'paddling'], ['Surfing'], ['diving'], ['Fishing'], ['Surfing', 'sitting'], ['boarding'], ['Diving'], ['Surfing'], ['Spearfishing'], ['boarding'], ['Swimming'], ['Spearfishing'], ['Fishing'], [], [], [], ['diving'], ['Snorkeling'], ['Snorkeling'], ['Fishing', 'treading'], ['Fishing'], ['boarding'], ['Surfing'], ['Surfing'], ['Spearfishing'], ['diving'], ['Finning'], ['Swimming'], ['Wading'], ['Fishing'], ['Canoeing'], ['Snorkeling'], ['Swimming', 'fishing'], ['Swimming'], ['Surfing'], ['Surfing'], ['boarding'], [], ['Fishing'], ['Surfing'], ['Swimming'], ['Swimming'], ['Sitting'], ['diving'], ['Fishing'], ['Diving'], ['Surfing'], ['Sitting'], ['diving'], ['Surfing'], ['Spearfishing'], ['Swimming'], ['skiing'], ['Surfing', 'sailboarding'], [], ['Swimming'], ['diving'], ['Surfing'], ['Surfing'], ['Surfing'], ['Swimming'], ['Surfing'], ['Surfing'], ['Surfing'], ['Surfing'], ['Spearfishing'], ['diving', 'spearfishing', 'floating'], ['Kayaking'], ['diving'], ['Surfing'], ['Surfing'], ['fishing'], ['Wading'], ['Surfing'], ['diving'], ['Spearfishing'], ['Fishing'], ['Snorkeling'], ['Snorkeling', 'holding'], ['Resting'], ['Lying', 'paddling'], ['Surfing'], ['diving'], ['Surfing'], ['Surfing'], ['Sitting'], ['Swimming'], ['Surfing'], ['diving', 'spearfishing'], ['sailing'], ['Surfing', 'sitting'], ['Surfing'], ['fishing'], [], ['Swimming'], ['Surfing'], ['diving', 'spearfishing'], ['Wading'], ['Swimming'], ['Swimming'], ['Surfing'], ['diving'], ['Surfing'], ['Diving'], ['Surfing'], ['diving'], ['Fishing'], ['Observing', 'feeding'], ['diving', 'descending'], ['Surfing'], ['Filming'], ['Feeding'], ['Swimming'], ['Surfing'], ['Surfing'], ['Spearfishing'], ['Fishing'], ['diving'], ['Surfing'], ['Surfing'], ['Surfing'], ['Playing'], [], ['Spearfishing'], ['Windsurfing', 'urinating'], ['Surfing'], ['diving'], [], ['Swimming'], ['Surfing', 'lying'], [], ['Paddling'], ['Paddling'], ['Surfing'], ['Kayaking'], ['Fishing'], ['Windsurfing'], ['diving', 'swimming'], ['Kayaking'], ['Kayaking'], ['boarding'], ['Lifesaving'], ['Swimming'], ['Surfing'], ['diving', 'feeding'], ['Spearfishing', 'using', 'trailing', 'string', 'bleeding'], ['Skindiving'], ['ding'], ['ding'], [], ['Surfing', 'sitting'], ['Surfing'], ['Surfing'], ['Surfing'], ['Surfing'], ['Surfing'], ['Wading'], ['Surfing'], ['Walking'], ['Snorkeling'], ['Diving'], [], [], ['Surfing'], ['diving', 'spearfishing'], ['Spearfishing'], ['Diving'], ['Swimming'], ['boarding'], ['Snorkeling'], ['Spearfishing'], ['Spearfishing'], ['diving'], ['Sittting'], ['Swimming'], ['Surfing'], ['diving'], ['Surfing'], ['Surfing', 'treading'], [], ['Surfing'], ['Swimming'], [], ['Surfing'], ['Windsurfing'], [], ['Standing'], ['surfing'], ['Surfing'], ['Surfing'], [], ['Surfing'], ['Lying'], ['fishing'], ['Diving'], ['Surfing'], ['fishing'], ['Fishing'], ['Attempting'], ['Returning'], ['Surfing'], [], ['Surfing'], [], ['Surfing'], [], ['Surfing'], ['boarding'], ['Spearfishing'], [], ['Diving'], ['Surfing'], ['Wading'], ['Surfing', 'sitting'], ['Surfing'], ['surfing'], ['Wading'], ['Dropping'], ['Snorkeling'], ['Spearfishing'], ['Fishing'], [], ['Surfing'], ['Fishing'], ['Fishing'], ['Swimming'], ['Swimming'], ['Swimming'], ['Surfing'], [], ['Windsurfing'], [], ['Spearfishing'], ['Swimming'], [], [], ['Spearfishing'], ['boarding'], ['Surfing'], ['ditching'], ['diving', 'spearfishing'], ['Spearfishing'], ['Spearfishing'], ['Surfing'], ['Surfing'], ['Surfing'], ['Meshing'], ['Swimming'], ['Racing'], [], ['Surfing'], [], ['Surfing'], ['Surfing'], ['Surfing'], ['Spearfishing'], ['diving'], [], ['Fishing'], [], ['Spearfishing'], ['diving'], ['diving'], ['Fishing'], ['Diving'], ['Windsurfing'], ['Treading'], ['Surfing'], ['Surfing'], ['Surfing'], ['Swimming'], ['Spearfishing'], ['Surfing'], ['Surfing'], ['Surfing'], ['Surfing'], [], ['Fishing'], [], ['Fishing'], ['boarding'], ['diving'], ['boarding'], ['Floating', 'diving'], ['Fishing'], ['diving', 'spearfishing', 'descending'], ['Swimming'], ['diving'], ['Swimming'], ['Wading'], ['Wading'], ['diving'], ['Wading'], ['Surfing'], ['fishing', 'ling'], ['Playing'], ['Snorkeling'], ['Surfing', 'lying'], ['Spearfishing'], ['Surfing'], ['diving'], ['Diving'], ['Surfing'], ['Swimming'], [], ['Surfing'], ['Investigating', 'sighting'], ['Spearfishing'], ['Spearfishing'], ['Spearfishing'], [], ['Fishing'], [], ['Sailing'], ['Surfing'], ['Spearfishing'], ['Swimming'], ['Surfing', 'surfing'], ['Wading'], ['Surfing'], ['Surfing', 'sitting'], ['diving', 'surfacing'], ['Surfing'], ['Swimming'], ['Surfing'], ['Swimming'], ['Wading'], ['Skindiving'], ['Spearfishing'], [], ['foundering'], ['Swimming'], ['Swimming'], ['Spearfishing'], ['During', 'fishing', 'throwing'], ['Spearfishing'], ['Surfing'], ['Towing'], ['Swimming'], ['Spearfishing'], [], ['Surfing'], ['Rowing'], [], ['Fishing'], ['diving'], [], ['Spearfishing'], ['Swimming'], [], [], ['Surfing'], ['Spearfishing'], ['Surfing'], ['diving'], ['Swimming'], ['Swimming'], [], [], ['Surfing'], ['Swimming'], ['Surfing'], ['Wading'], ['Standing'], ['Surfing'], ['Spearfishing'], ['Swimming'], ['Skindiving'], ['Diving'], ['Fishing'], ['Swimming'], ['Swimming'], [], ['Surfing'], ['Windsurfing'], ['Spearfishing'], ['Floating'], ['Swimming'], ['Spearfishing'], ['Surfing', 'dangling'], [], ['diving'], ['Spearfishing'], ['skiing'], ['Surfing'], ['Surfing'], ['Surfing'], ['Fishing'], ['Surfing'], [], ['Spearfishing'], ['Surfing'], ['Surfing'], [], ['Paddleskiing'], ['Fishing'], [], ['Windsurfing'], ['Spearfishing'], ['Swimming'], [], ['Fishing'], [], ['Windsurfing'], ['Surfing'], ['Surfing'], ['Surfing'], ['Diving'], ['diving'], [], [], ['Surfing'], ['Swimming'], ['Windsurfing'], ['boarding'], ['Paddleskiing'], ['Boarding'], ['Swimming'], ['Swimming'], ['Swimming'], [], ['Surfing'], ['Swimming'], ['Spearfishing'], [], ['Sailboarding'], [], ['Surfing'], ['Surfing'], ['Spearfishing'], ['Spearfishing'], ['Surfing'], ['Fishing'], ['Wading'], ['Swimming'], ['Swimming'], ['diving'], ['Diving'], ['Swimming'], [], ['Fishing'], ['Spearfishing'], ['Surfing'], [], ['Spearfishing', 'swimming'], ['Spearfishing'], ['Inspecting'], ['Diving'], ['Swimming'], ['Surfing'], ['Surfing'], ['Surfing'], ['Surfing'], ['Surfing'], ['Swimming'], ['Surfing'], ['Surfing'], ['Surfing'], ['Spearfishing'], ['Fishing'], ['Diving'], ['morning'], ['Snorkeling'], ['Swimming'], ['Surfing'], ['Spearfishing'], ['Catching'], ['Fishing'], [], ['diving', 'spearfishing'], ['diving'], ['Surfing'], ['diving'], ['Diving'], ['Surfing'], ['Finning'], ['Foundering'], ['Surfing'], ['Standing', 'Wading'], ['Surfing'], ['diving', 'Spearfishing'], ['Diving'], ['Swimming'], ['Exercising'], [], ['Surfing'], ['Spearfishing'], ['spearfishing'], ['Swimming'], ['skiing'], ['diving', 'spearfishing'], ['Paddleskiing'], [], ['Spearfishing'], ['Swimming'], ['Swimming'], ['Swimming'], ['Surfing'], ['Surfing'], ['Diving'], ['Wading'], ['Resting'], ['diving'], ['surfing'], ['Standing'], ['Surfing'], ['Surfing'], ['diving'], ['Surfing'], ['Spearfishing'], ['Sinking'], ['surfing'], ['diving'], ['Swimming'], ['Sinking'], ['Fishing'], ['boarding'], ['Spearfishing'], ['Spearfishing'], ['Swimming'], ['Swimming'], ['Diving'], ['Gaffing'], ['Surfing'], ['Spearfishing'], ['Spearfishing'], ['Swimming'], ['Spearfishing'], ['Diving'], ['Surfing'], ['fishing'], ['Fishing'], ['diving'], ['swimming'], [], ['Kayaking'], [], ['Floating'], ['diving'], ['Spearfishing'], ['diving'], ['Fishing'], [], ['Swimming'], ['surfing'], ['Surfing'], ['diving'], [], ['Spearfishing'], ['Surfing'], ['Fishing'], [], ['Spearfishing'], ['Surfing'], ['Surfing'], ['Fishing'], ['Spearfishing'], ['Diving'], ['diving'], ['Wading'], ['Floating'], [], ['Fishing'], ['Surfing'], ['Surfing'], [], ['Diving'], ['Diving'], ['diving'], [], ['Fishing'], ['Diving'], ['Surfing'], [], ['Surfing'], ['Swimming'], ['Swimming', 'sing'], ['Surfing'], ['Surfing'], ['Fishing'], ['Standing'], ['Spearfishing'], ['Surfing'], ['Floating'], ['Fishing'], ['diving', 'surfacing'], ['Wading'], ['fishing'], ['Spearfishing', 'diving'], ['Collecting'], ['Fishing'], [], [], ['Swimming'], ['Swimming'], ['clinging'], ['clinging'], ['clinging'], ['drawing'], [], [], ['Swimming'], [], ['diving'], ['Thrashing', 'imitating'], [], ['Surfing'], ['Swimming'], ['Fishing'], [], ['Surfing'], ['Surfing'], [], ['Skindiving'], [], ['Swimming'], ['Swimming'], ['Surfing'], ['Surfing'], ['Surfing'], ['Spearfishing'], ['Playing'], ['diving'], ['Spearfishing'], ['Skindiving'], ['Swimming'], ['Fishing'], ['Sitting'], ['Competing', 'fishing'], [], ['Standing'], ['Fishing'], [], [], ['watching'], ['fishing'], [], ['Fishing'], ['Spearfishing', 'diving'], ['Spearfishing'], ['diving'], ['Attempting'], ['diving', 'spearfishing'], ['Filming', 'feeding'], ['Standing'], ['Standing'], [], ['Surfing'], ['fishing'], ['Surfing'], ['Surfing'], ['Paddleskiing'], ['Surfing'], ['Floating'], ['diving'], ['swimming'], [], ['diving'], ['diving'], ['Surfing'], ['diving'], ['diving'], ['Swimming'], ['Spearfishing'], ['Surfing'], ['Swimming'], ['Standing'], ['Swimming'], ['Surfing'], [], ['Surfing'], ['Bathing'], ['diving'], [], ['Spearfishing'], ['Swimming'], [], ['Floating'], ['Diving', 'feeding'], ['Attempting'], [], ['Surfing'], [], ['Swimming', 'fishing'], ['Crayfishing'], [], ['Fishing'], ['Surfing'], ['Spearfishing'], [], [], ['Standing'], ['Surfing'], ['diving'], ['Swimming'], ['diving'], ['diving'], ['fishing', 'wearing', 'drifting'], ['Surfing'], ['Swimming'], ['swimming'], ['swimming'], ['swimming'], [], ['Surfing'], ['diving'], ['Swimming'], ['sinking'], ['Swimming'], ['diving'], ['Fishing'], ['Spearfishing'], ['Standing'], ['Swimming'], ['Surfing'], ['Surfing'], ['Fishing'], ['Swimming'], ['Swimming'], ['Fishing'], ['Fishing'], ['Sitting'], ['Diving'], ['Swimming'], ['Swimming'], ['Swimming'], ['Spearfishing'], [], ['Spearfishing'], ['Swimming'], ['Swimming'], ['Swimming'], ['Swimming'], [], ['Surfing'], [], ['Being', 'fishing'], ['diving', 'Spearfishing'], ['Swimming'], ['diving', 'Spearfishing'], [], [], ['Surfing'], ['Crabbing', 'spearing'], ['Swimming'], ['Wading'], [], ['Spearfishing'], ['Spearfishing'], ['Swimming'], ['Fishing'], ['Surfing'], ['diving'], ['diving'], ['Surfing'], ['Treading'], ['Swimming'], ['surfing'], ['Swimming'], [], [], ['Spearfishing'], ['Spearfishing'], ['Surfing'], ['diving'], ['Surfing'], ['Swimming'], ['Surfing'], ['Swimming'], ['Surfing'], ['Spearfishing'], ['Diving'], ['Diving'], [], [], ['Surfing'], ['diving'], ['Spearfishing'], ['Swimming'], [], ['Swimming'], ['Fishing'], ['Spearfishing'], ['Surfing'], [], ['Swimming'], ['Sitting'], ['Standing'], ['Swimming'], ['diving', 'collecting'], [], ['Swimming'], [], ['Swimming'], [], ['Surfing'], ['Swimming'], ['diving'], ['Surfing'], ['Swimming'], ['Fishing'], ['diving', 'feeding'], ['Wading'], ['diving'], ['Surfing'], ['diving'], ['Swimming'], ['Swimming'], ['Surfing'], [], [], [], ['Surfing'], ['Swimming'], ['Surfing'], [], [], ['Fishing'], ['Fishing'], ['Fishing'], [], [], ['surfing'], ['Surfing'], ['Diving'], ['Spearfishing'], ['Floating'], [], ['Swimming'], ['diving'], ['Sinking'], [], ['Fishing'], ['Diving'], ['Wading'], ['Wading'], [], ['Swimming'], ['Freediving'], ['Swimming'], ['surfing'], ['Wading'], ['Wading'], ['Swimming'], ['Swimming'], ['Swimming'], ['Swimming'], [], ['Swimming'], [], ['Freediving'], ['Spearfishing', 'freediving'], ['Spearfishing'], ['Fishing'], ['Spearfishing'], ['Washing', 'cooking'], ['Washing'], ['Swimming'], ['Fishing', 'trying', 'fishing'], ['Swimming'], ['diving'], [], ['Diving'], ['diving'], ['Floating'], ['Fishing'], ['Surfing'], ['surfing'], [], [], [], ['Freediving'], ['Wading'], ['Diving'], ['Wading'], ['fishing'], ['Diving'], ['Surfing'], [], ['Netting'], ['Fishing'], [], ['Surfing'], ['Fishing'], ['diving'], ['Freediving'], [], ['seeing'], ['Freediving'], ['Feeding'], ['Surfing'], [], ['Spearfishing'], [], ['Fishing'], [], [], ['Spearfishing', 'using'], ['Sinking'], ['Surfing'], ['Spearfishing'], ['Playing'], ['Standing'], ['Swimming'], ['Leaving'], ['fishing'], ['diving'], ['Wading'], ['Spearfishing', 'using'], ['swimming'], [], ['Spearfishing'], ['Clamming'], [], ['during'], ['Standing'], ['Wading'], [], ['Diving', 'riding'], ['Swimming'], [], ['Wading', 'pushing', 'ding'], ['Surfing'], ['Treading'], ['Surfing'], ['Swimming'], ['Picking'], ['Spearfishing'], [], ['Diving'], ['Swimming'], ['Swimming'], ['Diving'], ['Surfing'], ['Surfing'], ['Spearfishing'], [], ['Swimming'], [], ['Freediving'], [], ['Freediving'], ['Sinking', 'during'], [], ['Swimming'], ['Standing'], ['Swimming'], [], ['diving'], ['Diving'], ['Spearfishing'], ['Spearfishing'], ['Spearfishing'], ['Pulling'], [], ['Spearfishing'], ['Spearfishing'], ['Floating'], [], ['diving'], ['Spearfishing'], ['Photographing', 'using'], ['netting'], ['Snorkeling'], ['Spearfishing'], ['Surfing'], ['Spearfishing'], ['Fishing'], [], ['Feeding'], ['Fishing'], ['Freediving'], ['Spearfishing'], ['Spearfishing'], [], ['Lifesaving'], [], ['swimming'], ['Fishing'], ['Spearfishing'], ['Swimming'], ['Splashing'], ['Fishing'], ['Spearfishing'], ['Spearfishing'], ['Wading'], ['Spearfishing'], [], ['bathing'], ['Swimming'], ['Bathing'], ['diving', 'carrying'], ['Fishing'], ['Spearfishing'], ['Spearfishing'], ['Spearfishing'], ['Hunting'], ['Diving'], [], ['Netting'], ['Snorkeling'], ['Swimming'], ['Diving'], ['Swimming'], ['diving', 'using'], [], ['Spearfishing'], ['Wading'], ['Diving'], ['Killing'], ['Fishing'], ['Swimming'], ['Swimming'], ['diving'], [], ['Clamming'], ['Fishing'], ['Swimming'], ['Fishing'], ['Sinking'], ['Fishing'], [], ['Spearfishing', 'diving'], [], ['Swimming'], [], ['Fishing'], ['throwing'], ['Treading'], ['Helping'], [], ['diving', 'spearfishing', 'resting'], ['Spearfishing'], [], ['Standing'], [], ['surfing'], ['surfing'], ['Swimming'], ['Walking'], ['Spearfishing', 'standing'], ['Freediving'], ['Fishing'], ['Fishing'], ['Hauling'], [], ['Surfing'], [], ['Sunbathing', 'being'], ['Playing'], ['Spearfishing'], ['Wading'], ['Spearing'], ['Fishing'], [], [], ['Swimming'], ['Attempting'], ['Bathing'], [], ['Wading'], ['Diving', 'retrieving'], ['Swimming'], ['Spearfishing'], ['Treading'], ['Swimming'], ['Swimming'], ['Standing'], ['Diving'], ['Swimming'], [], ['Surfing'], ['Spearfishing'], ['Walking'], ['Paddling'], [], ['diving'], ['Treading'], ['diving'], [], ['Paddling'], ['surfing'], ['Swimming'], ['diving'], ['Dangling'], ['Surfing'], ['Collecting'], ['Standing'], ['Spearfishing', 'standing'], [], [], ['Swimming'], [], ['Fishing'], ['swimming'], ['Fishing'], ['diving'], ['Swimming'], ['Filming', 'carrying'], ['fishing'], ['fishing'], [], ['Surfing', 'swimming'], ['Spearfishing'], ['Swimming'], ['Swimming'], ['Swimming'], ['Floating'], ['Spearfishing', 'diving'], ['Swimming'], ['Spearfishing', 'using'], ['Swimming'], ['diving', 'Spearfishing'], [], ['Searching'], [], ['Spearfishing'], ['Tagging'], ['Standing', 'fishing'], ['canoeing'], ['Conducting'], ['Attempting'], ['Fishing'], ['Fishing'], ['Spearfishing'], ['Swimming'], ['Standing'], ['Spearfishing'], ['diving'], ['Fishing'], ['Surfing'], [], ['diving'], ['diving'], ['Fishing'], ['Diving'], ['Spearfishing'], ['preparing', 'diving'], ['Spearfishing'], ['boarding'], ['Lying'], ['Swimming'], ['Swimming'], ['Rowing'], ['Floating'], ['Swimming'], ['Spearfishing'], ['surfing'], ['Standing'], ['watching'], ['Freediving'], ['Spearfishing', 'diving'], ['Fishing'], ['Swimming'], [], ['Diving'], ['Snorkeling'], ['Standing'], ['Swimming'], ['Sitting'], ['Swimming'], [], ['Helping'], ['Fishing'], ['Spearfishing'], ['Splashing'], ['Spearfishing'], ['Spearfishing'], ['Treading'], ['Fishing', 'standing'], ['Fishing'], ['Spearing'], ['Spearfishing'], ['Catching'], ['Testing'], ['Wading'], ['Fishing'], ['fishing', 'wading'], ['Fishing'], ['Spearfishing', 'diving'], ['fishing'], ['Spearing'], ['Surfing'], ['Spearfishing'], ['Swimming'], ['Spearfishing'], ['Bathing'], ['Fishing'], ['fishing'], ['Seining', 'standing'], ['Swimming'], ['Fishing'], ['Swimming'], [], ['Fishing'], ['Swimming'], ['Swimming'], ['Surfing'], ['Surfing'], ['picking'], [], ['Swimming'], ['Spearfishing'], ['Spearfishing'], [], [], ['Freediving'], ['Wading'], ['Swimming'], ['Fishing'], ['Fishing'], ['Fishing'], ['diving', 'hunting'], ['Spearfishing'], ['fishing'], [], [], ['Fishing'], ['diving'], ['Spearfishing'], ['Fishing'], ['Spearfishing', 'diving'], [], ['Spearfishing', 'diving'], ['Fishing'], ['Abandoning', 'burning', 'raging'], ['Spearfishing'], ['Wading'], [], [], ['fishing'], ['Sitting'], ['Spearfishing'], ['Swimming'], [], ['Spearfishing'], ['Fishing'], [], ['Fishing'], ['Diving'], [], ['Fishing'], ['fishing'], ['Standing'], ['Spearfishing'], ['Diving'], ['netting'], ['Standing'], ['Finning'], ['Fishing'], ['Playing'], [], [], ['missing', 'bailing'], [], [], ['Escaping'], ['Escaping'], ['Escaping'], ['Washing'], ['Standing'], ['Fishing'], ['diving', 'attempting'], ['diving'], [], [], ['Fishing'], ['Fishing'], ['Swimming'], ['Wading'], ['Fishing'], [], ['Fishing', 'spearfishing'], ['Swimming'], ['Swimming'], ['Swimming'], ['Fishing', 'cleaning'], ['Swimming'], ['Treading'], ['Swimming'], ['Fishing'], ['Swimming', 'fishing'], ['Splashing'], [], ['Spearfishing'], ['Fishing'], ['Fishing'], ['Spearfishing'], ['Spearfishing', 'diving'], ['Spearfishing'], ['Surfing'], ['Fishing'], ['Spearfishing'], ['fishing'], ['Fishing'], ['Swimming'], ['Rowing'], ['Surfing'], ['Fishing'], ['Fishing'], ['Fishing'], ['Dangling'], [], ['Diving'], ['Standing'], ['Standing'], ['Treading'], ['Spearfishing'], ['Fishing', 'hauling'], ['Bathing'], ['Surfing', 'pushing'], ['Swimming'], [], ['Gathering'], ['Swimming'], ['Paddling'], [], [], ['Swimming'], ['Fishing'], ['climbing'], ['diving', 'surveying', 'examing'], ['Fishing'], ['Attaching'], ['Swimming'], ['Wading'], ['Spearfishing'], ['fishing', 'picking'], ['Fishing'], ['Spearfishing'], ['Swimming'], ['fishing'], ['Spearfishing'], ['Fishing', 'trolling'], ['diving', 'spearfishing'], ['Standing'], ['Spearfishing'], ['Spearfishing'], ['Fishing'], ['diving'], ['Collecting'], ['Walking'], ['Spearfishing'], ['Splashing'], ['Spearfishing'], ['Swimming'], ['Diving'], ['Spearfishing'], ['Spearfishing'], ['Checking'], ['Swimming', 'using'], ['during'], ['Spearfishing'], ['Spearfishing'], ['Spearfishing'], ['Swimming'], ['Fishing', 'ding'], ['Spearfishing'], ['diving'], ['Fishing'], ['Floating'], ['Cleaning'], ['Standing'], [], ['Spearfishing'], ['Swimming'], ['Collecting'], [], ['Fishing'], ['Swimming'], ['Collecting'], ['Standing'], [], ['Fishing'], ['Swimming'], ['Standing'], [], ['racing'], ['Fishing'], ['Taking', 'swimming'], ['Spearfishing'], ['diving'], [], ['fishing'], [], ['Swimming'], ['Fishing'], ['Fishing'], ['Swimming'], [], ['Chasing', 'bathing', 'riding'], ['Spearfishing'], ['lining'], [], ['Fishing'], [], ['Fishing'], ['Fishing'], ['Collecting'], ['being'], ['Diving'], ['Fishing'], ['diving', 'kneeling'], ['Fishing'], [], [], ['diving', 'Spearfishing'], ['diving', 'Spearfishing'], ['Swimming'], [], [], ['diving'], ['diving'], [], ['Standing'], [], ['Holding', 'dangling'], ['Helping'], ['Fishing', 'removing'], ['Swimming'], ['Spearfishing'], ['Pulling'], ['Fishing', 'tossing'], ['Fishing'], ['fishing'], ['fishing'], ['Fishing'], ['diving'], ['Testing'], ['Diving', 'circling'], ['Swimming'], ['Spearfishing', 'diving', 'cruising'], ['diving', 'treading'], ['Swimming'], [], [], ['Treading'], ['Skindiving'], ['Fishing', 'hauling'], ['Fishing'], ['Floating'], ['Surfing'], ['Spearfishing'], ['Spearfishing'], [], ['fishing'], ['Fishing'], ['Fishing'], ['Fishing'], ['Treading'], ['Spearfishing', 'carrying'], ['Wading', 'fishing'], ['Spearfishing'], ['Spearfishing'], ['Fishing'], ['Spearfishing'], ['fishing'], ['Spearfishing'], [], [], [], [], ['diving'], ['Fishing', 'lifting'], ['Setting'], ['Standing', 'watching'], ['Bathing'], ['Spearfishing'], [], ['Spearfishing'], ['Collecting'], ['Spearfishing'], ['fishing', 'removing'], ['Fishing'], ['Swimming'], ['Wading'], ['Paddling'], ['Fishing'], ['Swimming', 'piling'], ['ding'], ['during'], ['Spearfishing'], ['Spearfishing'], ['Fishing'], [], ['surfing'], ['Standing'], ['Trailing'], [], ['Fishing'], ['fishing'], ['Swimming', 'feeding'], ['Spearfishing'], ['Fishing'], ['Swimming'], [], ['Diving'], ['ding'], ['Spearfishing'], ['Swimming'], [], ['hanging'], ['Gigging'], ['Pulling'], [], [], [], ['Fishing'], ['Swimming'], [], [], ['Diving'], ['Spearfishing'], ['Fishing'], ['Fishing'], ['Spearfishing'], ['Fishing'], ['Swimming'], ['Standing'], ['Wading'], ['diving'], ['Pulling'], ['Spearfishing'], [], [], ['Fishing'], ['Dragging'], [], ['diving'], [], ['Wading'], [], ['Swimming'], ['diving'], ['Swimming'], ['Spearfishing'], [], ['Treading'], ['Spearfishing'], [], ['Spearfishing'], ['Diving'], ['Fishing'], ['Fishing'], ['Spearfishing'], ['Swimming'], [], ['preparing'], ['Fishing'], ['attempting'], ['Fishing'], ['Bathing'], ['Treading'], ['Working'], [], ['Swimming'], [], ['Surfing', 'treading'], ['Swimming'], ['Dragging'], ['Swimming', 'fishing'], ['Spearfishing', 'diving'], ['Swimming'], [], ['Paddling', 'sailing'], ['fishing'], ['Fishing'], [], ['Fishing'], ['Fishing'], [], ['Swimming'], ['Surfing'], ['Cleaning'], ['Swimming'], ['Fishing'], ['Spearfishing'], ['Fishing'], ['Swimming'], [], [], ['Collecting'], ['Climbing', 'repairing'], ['Fishing'], ['Spearfishing'], [], ['Swimming'], ['Swimming'], ['Swimming', 'ducking'], ['Swimming', 'ducking'], [], ['Swimming'], [], [], ['diving'], ['Swimming'], ['Spearfishing'], [], ['Wading'], ['Walking'], ['Swimming', 'towing'], ['Swimming'], ['Spearfishing'], ['diving'], ['Diving'], ['Paddling'], ['Swimming'], ['Fishing', 'holding'], ['Spearfishing'], ['Spearfishing'], ['Spearfishing', 'swimming'], ['surfing'], [], ['Swimming'], ['Spearfishing'], [], ['Skindiving'], [], ['Spearfishing'], ['Spearfishing'], ['Fishing', 'holding'], ['Fishing', 'trolling'], ['Fishing', 'walking'], ['Spearfishing'], ['Standing'], ['Skindiving'], ['Floating'], ['Standing'], ['surfing'], [], ['Fishing'], [], [], [], ['Attempting'], ['Spearfishing'], ['Swimming'], ['Diving'], [], ['Competing', 'spearfishing', 'towing'], ['Fishing'], ['wearing'], ['Swimming'], ['Surfing'], ['Standing'], ['Swimming', 'pearling'], ['Diving'], ['Diving'], ['Spearfishing'], ['Floating'], [], ['Skindiving'], ['Wading'], ['Fishing'], ['Bathing'], [], ['Fishing'], ['Fishing'], ['diving'], ['Fishing'], [], ['Fishing'], [], ['Dynamiting'], ['Spearfishing'], ['Spearfishing'], ['Swimming'], ['Fishing'], ['diving'], ['Spearfishing', 'holding'], ['Skindiving'], ['Fishing'], ['fishing'], ['Climbing'], ['Fishing'], ['diving'], ['Fishing'], ['Fishing'], ['diving'], ['Diving'], ['Swimming'], ['diving'], ['Attempting'], ['Attempting'], ['Fishing'], ['Fishing'], ['Fishing'], ['Floating'], ['Fishing'], ['Swimming'], ['Wading'], ['Swimming'], ['fishing'], ['Longling', 'fishing'], [], ['Fishing'], ['diving', 'working'], ['Diving'], ['Boating'], ['Bathing'], ['Swimming'], ['Attempting'], ['Diving'], ['Swimming'], ['Diving'], ['Swimming'], ['skiing'], ['Diving'], [], ['Swimming'], ['Removing'], ['Swimming'], [], [], [], ['racing'], ['Fishing'], ['Swimming'], ['Spearfishing'], ['Spearfishing'], ['Flying'], ['Flying'], ['Hunting'], ['Swimming'], [], ['Fishing'], ['Surfing'], ['Swimming'], ['Swimming'], ['Fishing'], ['Treading'], ['Fishing'], [], ['Wading'], ['Swimming'], ['Swimming'], ['Spearfishing'], ['Spearfishing'], ['Spearfishing', 'fishing'], ['Spearfishing'], ['Fishing'], ['surfing'], ['Swimming'], ['Competing', 'standing'], ['diving'], ['Spearfishing'], ['Swimming'], ['Fishing'], ['Rowing'], ['Rowing'], ['Hunting'], ['Crossing'], [], ['Fishing'], ['Standing'], ['Swimming'], ['Spearfishing'], [], ['swimming'], ['Swimming'], ['Swimming'], ['Swimming'], ['Spearfishing'], [], ['Fishing', 'trawling'], ['Boating'], [], ['Swimming'], ['Swimming'], ['Spearfishing', 'hunting'], ['Spearfishing'], ['Spearfishing'], ['Spearfishing'], ['fishing', 'standing'], ['diving', 'Diving'], ['Fishing'], ['Swimming'], [], ['Swimming'], ['Swimming'], [], [], ['diving'], ['Bathing'], ['Fishing', 'cleaning'], [], ['Fishing'], ['Spearfishing'], ['Swimming'], ['Swimming'], ['Spearfishing'], ['Floating'], ['Crouching'], [], [], ['diving'], ['Fishing'], ['Swimming'], [], [], ['Swimming'], ['Swimming'], ['Swimming', 'wading'], ['skiing'], [], [], ['diving'], [], ['fishing'], ['Crabbing'], ['diving'], ['Wading'], ['Spearfishing'], ['Fishing'], ['Standing'], [], ['Fishing'], [], ['Retrieving'], ['Landing'], [], ['Swimming'], [], ['Swimming'], ['Spearfishing'], ['Spearfishing'], [], [], ['cutting'], ['Spearfishing'], ['Spearfishing'], ['Fishing'], ['Fishing'], ['Spearfishing'], ['Washing'], ['Standing'], ['Lying'], ['Fishing', 'setting'], [], ['Fishing'], ['Swimming'], ['surfing', 'treading'], ['Swimming', 'fishing', 'setting'], ['Fishing'], [], ['Fishing'], ['Fishing'], ['Fishing'], ['Fishing'], [], ['Fishing'], ['Spearfishing', 'carrying'], ['Swimming'], ['Fishing', 'standing', 'washing'], ['Fishing', 'standing'], ['Fishing'], ['Spearfishing'], ['being'], ['Spearfishing'], ['Surfing'], ['Diving', 'recovering'], ['Spearfishing'], ['Spearfishing'], ['Spearfishing'], ['Swimming'], ['Swimming'], ['Spearfishing'], ['Treading'], ['Swimming'], ['Fishing'], ['Treading'], [], ['Swimming'], [], ['Swimming'], ['Fishing'], [], ['Swimming'], ['Swimming'], ['Diving'], ['Bathing'], [], [], ['fishing'], ['Spearfishing'], ['diving'], [], [], ['Fishing', 'casting'], ['surfing'], ['surfing'], ['Spearfishing', 'treading'], ['Swimming'], ['Swimming'], [], [], ['Paddling'], ['Swimming'], ['Treading'], ['Diving'], ['surfing'], ['Paddling'], ['surfing', 'treading'], ['Fishing'], ['fishing'], ['Diving'], ['Fishing'], ['Swimming'], ['Fishing'], [], ['Swimming'], [], ['diving', 'standing'], ['Swimming'], ['carrying'], ['Treading'], ['Fishing'], ['sinking', 'fishing'], ['Fishing', 'sitting', 'dangling'], ['Wading'], ['Lifesaving'], [], ['Spearfishing'], ['surfing'], ['Fishing'], ['Swimming'], ['Sitting', 'ding', 'mending'], ['fishing'], ['Spearfishing'], ['Defecating'], ['Bending'], ['Standing'], ['Spearfishing'], ['Bathing'], ['Swimming'], ['Diving'], ['Spearfishing', 'walking', 'carrying'], ['diving', 'collecting'], [], ['sinking', 'Wing'], ['Lying', 'ding'], ['diving', 'wading'], [], ['Swimming'], ['Swimming'], ['Swimming'], ['Swimming'], ['Swimming'], ['Swimming'], ['Swimming'], ['Floating'], ['Fishing'], ['fishing', 'clinging'], ['Bathing'], ['Examining'], ['Fishing'], ['Bathing'], ['Bathing'], [], ['Lifesaving'], ['Surfing'], ['skiing'], [], ['Fishing'], [], [], [], ['Spearfishing'], ['Swimming'], ['Swimming'], ['Swimming'], ['Treading', 'waiting'], [], ['playing', 'missing'], ['Fishing'], ['involving'], ['diving'], ['Swimming'], ['Swimming'], ['Fishing'], ['Swimming'], [], ['Bathing', 'washing'], [], ['Swimming'], ['Spearing'], ['Swimming'], ['Swimming'], ['Fishing'], ['Bringing'], [], [], ['Spearfishing'], ['carrying'], ['Swimming'], ['skiing'], [], ['Fishing', 'holding'], ['Spearfishing'], ['Fishing'], ['Fishing'], [], ['Fishing', 'diving'], ['Fishing'], ['Fishing'], ['Fishing'], ['Swimming'], ['Swimming'], [], ['Fishing'], ['Swimming'], ['Swimming'], ['Fishing'], ['Diving'], ['Swimming'], [], ['Fishing'], ['Fishing'], ['Swimming'], ['Treading'], ['surfing'], ['Surfing'], ['Moving', 'placing'], ['Wading'], ['Treading'], ['Fishing'], ['Attempting'], ['Bathing'], ['Rowing'], ['Treading'], ['Swimming'], [], ['diving'], ['Fishing'], ['Swimming'], ['Fishing'], ['Swimming'], ['Fishing'], ['Swimming'], ['Bathing'], ['Swimming'], ['Swimming'], ['Fishing'], ['Fishing'], ['Treading'], ['Standing'], ['Swimming'], ['Treading'], ['Swimming'], [], ['Jumping'], ['Swimming'], ['surfing'], [], [], [], ['Bathing'], ['swimming'], ['swimming'], ['Swimming'], [], [], [], [], ['Swimming'], ['Swimming'], ['Walking'], ['Swimming'], ['Diving'], ['Playing'], ['Bathing'], ['Swimming'], ['Swimming'], ['Fishing'], [], ['Swimming'], ['landing'], [], ['swimming'], [], [], ['Fishing'], ['Swimming'], [], ['Swimming'], ['Swimming'], [], ['Bathing'], [], [], [], ['Treading'], ['Standing'], ['Treading'], ['Treading'], ['Bathing'], ['surfing'], ['Fishing'], ['Surfing'], ['Swimming'], [], [], [], ['Treading'], [], ['Swimming'], [], [], [], ['Flying', 'swimming'], ['Treading'], ['Fishing'], ['Swimming'], ['Fishing'], ['during'], ['Reading'], ['Reading'], [], ['clinging'], ['swimming'], ['Swimming'], [], [], ['guarding'], [], ['Swimming'], ['Swimming'], ['Swimming'], ['Spearfishing'], ['Spearfishing'], [], ['paddling', 'standing'], [], ['Swimming'], [], [], ['travelling', 'swimming'], ['sinking', 'being'], [], ['Swimming'], ['ding'], [], ['wearing', 'using'], [], ['swimming'], ['Treading'], [], [], [], ['Sculling'], [], ['during', 'filming'], [], [], ['Diving'], [], [], [], [], ['Swimming'], ['skiing'], ['waiting'], ['Fishing'], ['Sailing', 'Ging'], [], [], ['Swimming'], [], [], [], ['Sing', 'ding'], ['Swimming'], ['burning'], ['Swimming'], [], [], [], [], [], ['Fishing'], ['Swimming'], ['Swimming'], ['Fishing'], ['Fishing'], ['Fishing'], [], [], ['Fishing'], ['Fishing'], ['netting'], ['Rescuing'], [], ['Floating'], ['Standing'], [], [], [], ['Standing'], [], ['Standing'], ['Swimming'], ['Fishing'], ['Collecting'], ['Bathing'], ['Standing'], ['Standing'], ['Fishing'], ['Treading'], ['diving'], ['Swimming'], ['Canoeing'], ['Wading'], [], ['Swimming'], ['Swimming'], ['Swimming'], ['Diving'], ['Boating'], [], [], ['Swimming'], [], ['Standing'], ['Swimming'], ['Swimming'], [], [], [], [], ['Fishing'], ['diving', 'swimming', 'ding'], ['Spearfishing'], ['diving'], ['Fishing'], [], ['diving', 'filming', 'pulling'], ['netting'], [], [], [], ['Fishing'], ['Scooping'], ['awaiting'], ['Fishing'], ['Bathing'], ['Diving'], ['Swimming'], ['Swimming'], ['Fishing'], ['Swimming', 'Tsing'], ['Fishing'], ['Swimming'], ['Fishing'], ['Fishing', 'removing'], ['diving', 'pearling'], [], ['diving'], ['Fishing'], ['Swimming'], ['Bathing'], ['Wading'], [], ['Fishing'], ['Watching'], ['Diving'], ['skiing'], ['diving'], ['surfing'], ['Fishing'], ['Diving'], ['Swimming'], [], ['Diving'], [], ['Swimming'], ['Swimming'], ['Swimming'], ['skiing'], ['Fishing'], ['boating'], ['Fishing'], ['Rowing'], ['Diving'], ['Swimming'], ['Swimming'], ['diving'], [], [], ['Fishing'], ['Swimming'], ['Fishing'], ['swimming'], ['Bathing'], ['Swimming'], ['Swimming'], ['Swimming'], ['Fishing'], ['Fishing'], ['returning', 'ding'], ['Holding'], [], ['Diving', 'attempting', 'drowning'], ['Sculling'], ['Fishing'], ['Swimming'], ['Fishing'], ['Spearfishing'], ['Swimming'], ['diving', 'floating'], ['Fishing'], ['diving'], ['Fishing'], ['Swimming'], ['Fishing'], ['Diving'], ['Fishing', 'catching'], ['Diving', 'swimming'], ['Swimming'], ['Diving'], ['Diving'], ['Fishing'], ['rowing'], ['Diving'], ['Rowing'], ['Touching'], ['Sculling'], ['Swimming'], ['Swimming'], ['Surfing'], ['Paddleskiing'], ['Swimming'], ['Cruising'], ['Diving'], ['Swimming'], ['Swimming'], ['hanging'], ['Fishing'], ['Diving'], ['fishing'], ['fishing'], ['Fishing', 'retrieving'], ['Swimming'], ['Fishing'], ['Fishing'], [], [], [], ['diving'], [], ['Diving'], [], ['Diving', 'ding'], [], ['diving', 'standing'], ['Hauling'], ['Surfing'], ['Swimming'], ['Standing'], ['Surfing'], ['Fishing'], ['Fishing'], [], [], ['Splashing'], ['Swimming'], [], ['Swimming', 'splashing'], ['Bathing'], ['Fishing'], ['Freediving'], ['Fishing'], ['Fishing'], ['Swimming'], [], ['Swimming'], ['Swimming'], ['Fishing'], ['Fishing'], ['Standing'], ['surfing'], ['Swimming'], ['Swimming'], ['Swimming'], ['Swimming'], ['Fishing'], ['Splashing'], [], ['Fishing'], ['Swimming', 'attempting', 'drifting'], ['Swimming'], ['diving'], ['diving'], ['Diving'], ['Fishing'], ['Fishing'], ['Bathing'], ['Swimming'], [], ['diving'], ['Sitting'], ['Standing'], ['Fishing'], [], ['Fishing'], ['Treading'], ['Swimming'], ['Swimming'], ['Standing'], ['Diving', 'ding'], [], ['Fishing'], ['Swimming'], [], ['Fishing'], [], ['Swimming'], ['Swimming'], ['Catching'], [], [], ['Fishing'], ['diving'], ['filming', 'standing'], [], ['Fishing', 'hauling', 'fishing'], ['Fishing'], ['Fishing'], ['diving'], ['diving'], ['diving'], ['Standing'], ['Standing'], ['Swimming'], ['Fishing'], ['Working'], ['Swimming'], ['Fishing'], ['Fishing'], ['Collecting'], ['Diving'], ['Diving'], ['Swimming'], ['Swimming'], ['Fishing'], ['Swimming'], [], ['Fishing'], ['Swimming'], ['Swimming'], ['Swimming'], ['Swimming'], [], ['Swimming'], ['Swimming'], ['Fishing'], ['Gaffing', 'attempting', 'bring'], ['Crabbing'], [], ['Fishing'], ['Fishing'], ['Fishing'], ['Fishing', 'hauling'], ['Swimming'], [], ['diving'], ['Swimming'], ['Swimming', 'carrying'], [], ['Swimming'], [], ['Fishing'], [], ['fishing', 'ding'], ['Swimming'], [], ['Fishing'], ['Swimming'], ['Swimming'], ['Swimming'], ['Swimming'], [], ['Swimming', 'floating'], ['Fishing'], [], [], ['diving'], ['diving'], ['Diving', 'treading'], ['Removing'], ['Fishing'], ['Swimming'], ['Swimming', 'fishing'], [], ['Swimming'], ['Diving'], ['Diving'], ['Bathing', 'surfing'], ['diving'], [], [], ['Fishing'], ['diving'], ['Fishing'], [], ['Bathing'], ['Swimming'], [], ['Fishing'], ['diving'], ['Diving'], ['Diving'], ['Standing'], [], ['Swimming'], ['Swimming'], ['Bathing'], ['Launching'], ['Launching'], ['surfing'], ['Canoeing'], ['Swimming'], ['Swimming'], ['Bathing'], ['surfing'], ['Fishing'], ['Diving'], ['Swimming'], ['Wading', 'netting'], ['Fishing'], [], ['diving'], ['diving'], ['Fishing'], [], ['sinking'], ['Swimming'], ['Fishing'], [], ['diving'], ['Boating'], ['Swimming'], [], ['Fishing'], ['Treading'], ['Diving'], ['Bathing'], ['Standing'], [], ['diving'], ['Swimming'], ['Swimming'], ['Retrieving'], ['Swimming'], ['swimming'], [], ['surfing'], ['Standing'], ['Swimming'], [], [], ['Riding'], ['Standing', 'collecting'], [], [], ['Walking'], ['Diving'], ['diving'], ['surfing', 'treading'], ['Feeling'], ['Attempting', 'drowning'], ['Fishing'], ['surfing'], ['Swimming'], ['Swimming'], ['Swimming'], ['diving'], ['Diving'], ['Diving'], [], ['Bathing'], [], [], ['Swimming'], ['Swimming'], ['Fishing'], ['Swimming', 'canning'], ['Bathing'], ['Swimming'], [], ['Swimming'], ['Swimming'], ['Swimming'], [], [], [], ['floating'], ['Swimming'], ['Floating'], [], [], ['Fishing'], ['Fishing'], ['Swimming'], [], [], ['Bathing'], ['Swimming'], ['Swimming'], ['Swimming'], ['Diving', 'repairing'], ['Diving'], ['during'], [], ['Bathing'], ['diving'], ['Bathing'], ['Standing'], ['Fishing'], ['Fishing'], ['Removing'], ['Fishing', 'swimming'], ['Floating', 'falling', 'jumping'], ['Swimming'], ['Swimming'], ['Fishing'], ['Bathing'], ['Bathing'], ['Swimming'], ['Swimming'], ['swimming'], ['Swimming'], ['Fishing', 'standing'], ['shelling'], ['Fishing'], ['Sailing'], ['Fishing'], ['diving'], ['Fishing'], ['Diving'], ['rowing', 'attempting'], ['Dismantling'], ['Wading'], ['Diving'], ['Diving'], ['Swimming'], [], ['Swimming'], [], ['Fishing'], [], ['Hoisting', 'fishing'], ['Hoisting', 'fishing'], ['Bathing'], ['Bathing'], ['Fishing'], ['Sailing'], ['Freediving', 'inspecting', 'blasting', 'dredging'], ['Swimming'], ['Fishing'], [], ['Floating'], ['Swimming'], ['Swimming'], ['Swimming'], ['Fishing'], ['Standing'], ['Bathing'], ['Swimming'], ['Swimming'], ['Bathing'], ['Swimming'], ['Standing'], ['Surfing'], ['Swimming'], [], ['Wading', 'ding', 'carrying'], ['Swimming'], ['Diving'], ['Diving'], ['Fishing'], [], ['Swimming'], [], ['Wading'], [], ['Standing'], [], ['Swimming'], ['Diving'], ['Swimming'], [], ['swimming'], ['Diving'], ['Floating'], ['diving'], ['Swimming'], [], [], ['Splashing'], ['Swimming'], ['Swimming'], ['Sitting'], ['crossing', 'swimming'], ['Swimming'], ['Swimming'], [], [], ['Swimming'], ['Swimming'], ['Wading'], ['Wading', 'shrimping'], ['Fishing'], ['Swimming'], ['Fishing'], [], ['Bathing'], ['Surfing'], ['Diving'], ['Swimming'], [], ['Swimming', 'towing'], ['Stuffing'], ['Swimming'], ['Diving'], [], ['Swimming'], ['Swimming'], ['Diving'], ['Diving'], ['Bathing'], ['Taking'], ['Swimming'], [], ['Swimming'], ['Bathing'], ['Fishing'], ['Netting'], ['Fishing'], ['Swimming'], ['Swimming'], ['Swimming'], ['Swimming', 'recovering'], ['Swimming'], [], ['Diving'], ['Bathing'], ['Swimming'], ['Swimming'], ['Swimming'], [], [], ['Swimming'], ['Clinging', 'rowing'], ['Bathing'], ['Diving'], ['Bathing'], ['Bathing'], [], ['Fishing'], ['Wading'], [], ['diving'], ['Swimming'], ['Fishing'], ['Bathing'], [], ['Swimming'], [], [], ['Swimming'], ['Washing'], ['Fishing'], [], ['Fishing'], ['Bathing'], ['Swimming'], ['Fishing'], ['Swimming'], ['picking'], ['Wading'], ['Canoeing'], ['Wading'], [], ['Fishing'], [], ['Swimming'], [], [], [], [], [], [], ['Fishing'], ['Hauling'], [], ['Diving'], ['Swimming'], ['Swimming'], [], ['Swimming'], ['Swimming'], ['Bathing'], [], ['Swimming'], ['diving'], ['Swimming'], ['Swimming'], ['Swimming'], [], [], ['Bathing'], [], [], [], ['Diving'], [], ['swimming'], ['Bathing'], ['Bathing'], ['Fishing'], ['Bathing'], ['Fishing'], ['Swimming'], ['Fishing'], ['Swimming'], ['during'], ['Swimming'], ['Fishing'], [], ['pearling'], ['Fishing'], ['Bathing'], ['Swimming'], [], [], [], ['Swimming'], ['diving', 'laying'], ['bathing'], [], ['Fishing', 'clinging'], ['Swimming'], [], [], ['Fishing'], ['expecting'], ['netting'], ['fishing'], ['fishing'], ['Swimming'], ['Bathing'], [], [], ['Fishing'], ['gathering'], ['Diving'], [], [], ['killing'], [], ['Swimming'], ['Swimming'], [], ['fishing', 'trailing'], [], [], ['Boating'], [], [], [], [], [], ['Gathering'], ['Bathing'], ['Bathing'], ['Fishing'], ['Fishing'], ['Bathing'], [], ['Diving', 'retrieving'], ['Swimming'], ['Swimming'], ['Swimming'], ['Swimming'], ['Wading'], ['Swimming'], [], ['Floating'], ['Bathing'], ['Fishing', 'being', 'breaking'], ['Fishing'], ['sinking', 'fing'], ['Standing'], ['Bathing'], ['Fishing'], ['fishing'], ['Fishing'], [], ['Swimming'], ['Diving'], ['Swimming'], ['Swimming'], ['Swimming'], ['Swimming'], ['Fishing'], ['Diving'], [], ['Swimming'], [], ['diving'], ['Shooting'], ['Diving'], [], [], ['Swimming'], ['Bathing'], ['Washing'], ['Floating', 'standing'], ['Bathing'], [], ['Swimming'], ['Swimming', 'fishing'], ['Bathing'], ['Wading'], [], ['Fishing'], ['Swimming'], ['Swimming'], ['Bathing'], ['Bathing'], ['Bathing'], ['Bathing'], ['Harpooning'], ['Bathing'], [], ['footing'], ['clinging'], ['Sailing'], ['Swimming'], ['Swimming'], ['Swimming'], ['Swimming'], ['Bathing'], ['Diving'], ['Bathing'], ['Swimming'], [], ['Fishing'], ['Swimming', 'falling'], ['Swimming'], ['Bathing'], [], ['Swimming'], [], ['diving'], ['Fishing'], ['Swimming'], ['Swimming'], ['Fishing'], ['Swimming'], ['Fishing'], ['Catching'], ['Fishing'], ['Swimming'], [], ['diving'], ['Swimming'], ['Standing'], ['Dangling'], [], ['Swimming'], ['Bathing'], ['Taking'], ['Swimming'], ['Swimming'], ['Swimming'], ['Diving'], ['Swimming'], ['Bathing'], ['Bathing'], ['Bathing'], ['Swimming'], ['Swimming'], ['Swimming'], ['Diving'], ['Floating'], ['Bathing'], ['Swimming'], ['Hunting'], [], ['Standing', 'gathering'], [], ['Swimming'], [], [], ['Diving'], ['diving'], ['Swimming'], ['Hunting'], ['Swimming'], ['Floating'], ['Bathing'], ['Bathing'], [], ['Fishing'], ['Attempting'], ['Swimming'], ['Bathing'], ['Bathing'], ['Dangling'], ['Rowing'], ['Hunting'], [], [], ['Diving'], ['Diving'], ['Swimming'], ['Swimming'], ['Swimming'], ['Standing'], ['Swimming'], [], [], [], ['Fishing', 'Seining'], [], ['Trailing'], ['Attempting', 'swimming'], [], ['Diving'], [], ['Angling'], ['Diving'], ['Fishing'], ['Fishing'], ['Standing'], ['Wading'], [], ['Swimming'], ['Fishing'], [], [], ['Fishing'], ['Bathing'], [], ['Swimming'], [], ['Diving'], ['Fishing'], ['Bathing'], ['Bathing'], ['Swimming'], ['Wading'], ['Bathing'], ['Diving'], ['Fishing'], [], ['Diving'], ['Fishing'], ['Swimming'], ['Fishing'], ['Hunting'], ['Diving'], ['diving'], [], [], ['Crossing'], ['Swimming'], ['Swimming'], ['Swimming'], ['Swimming'], ['Swimming'], [], ['Fishing'], ['Bathing'], ['Swimming'], ['Bathing'], ['Dangling'], ['Fishing'], ['Swimming'], ['Swimming', 'floating'], ['Fishing'], ['Bathing'], ['Swimming'], ['bathing'], [], ['Bathing'], ['Bathing'], [], [], ['Abandoning', 'burning'], [], [], [], [], ['Swimming', 'falling', 'sealing'], ['swimming'], ['swimming'], ['Bathing'], [], [], [], ['Fishing'], ['Swimming'], [], ['Fishing'], ['Riding'], ['Bathing'], [], ['pursuing'], ['Fishing'], ['diving'], ['Swimming'], ['Swimming'], [], [], ['Shooting'], ['Fishing'], ['Fleeing'], [], ['Swimming'], [], [], ['Fishing'], ['Treading'], ['Bathing'], ['Swimming'], [], ['Swimming'], [], ['Fishing', 'throwing'], ['Wading'], ['Diving'], ['Diving'], ['Swimming'], ['Bathing'], [], [], [], ['Swimming'], ['Swimming'], ['Fishing'], [], ['Fishing'], ['Cleaning'], ['Swimming'], ['Swimming'], ['Working'], [], ['Thing'], ['Sailing'], ['drowning'], [], [], ['Fishing'], [], ['Floating'], ['Crossing'], ['Rowing'], ['diving'], [], [], ['Crossing', 'fighting'], [], ['Swimming'], [], ['Rowing', 'ding'], ['Swimming'], [], [], ['Swimming'], [], [], ['Netting'], ['Clamming'], ['Swimming', 'being'], ['Fishing'], ['Bathing'], ['Oystering'], [], ['Bathing'], [], ['Fishing'], ['Diving'], ['Diving'], ['Swimming'], ['Sailing'], [], ['Bathing'], [], [], [], [], ['Swimming'], ['Bathing'], ['Fishing'], ['yachting'], [], ['Boating'], ['Clamming'], ['Swimming'], [], ['Swimming'], ['Swimming', 'escaping'], ['Fishing'], ['Diving'], ['Diving'], ['Bathing'], ['Fishing'], [], [], [], ['Restraining'], ['Bathing'], ['Bathing'], ['Clinging'], [], ['diving'], ['Fishing'], ['diving'], ['Bathing'], ['During'], [], ['Swimming'], ['Bathing'], ['Bathing'], ['Floating', 'holding'], ['Swimming'], ['Bathing'], [], [], ['Fishing'], ['Swimming'], ['Traveling'], ['Swimming'], ['Sailing'], [], ['Bathing'], [], ['Bathing'], ['Bathing'], ['Fishing'], ['Bathing'], ['Diving'], [], [], [], ['Swimming'], ['Swimming'], ['Fishing'], [], ['Bathing'], ['Standing'], [], ['Floating'], ['Bathing'], ['Swimming'], ['murdering'], ['Fishing'], ['returning'], ['returning'], ['Swimming'], ['Swimming'], [], [], [], ['Bathing'], [], ['Bathing'], [], ['Fishing'], [], [], ['Bathing'], ['Paddling'], [], ['Fishing'], ['Bathing'], ['Swimming'], ['floating'], [], ['Diving'], ['Bathing'], ['Swimming'], ['Bathing'], ['diving'], [], ['diving'], [], ['Fishing'], [], ['Bathing'], ['Bathing'], ['Bathing'], ['Sitting'], ['Fishing'], ['Fishing'], ['Fishing'], ['Bathing'], ['Escaping', 'blackbirding'], ['Salvaging'], ['Fishing'], ['Bathing'], [], ['Fishing', 'Seining'], ['Bathing'], ['Bathing'], ['Swimming', 'escaping'], ['Swimming'], [], ['Fishing'], ['Canoeing'], [], [], [], [], ['Fishing'], ['fishing'], ['Bathing'], ['Bathing'], [], [], ['Fishing'], ['Bathing'], ['Bathing'], ['Bathing', 'standing'], ['Fishing'], ['Bathing'], ['Bathing'], ['Bathing'], ['Canoeing'], ['fishing'], [], [], ['Standing'], [], ['Fishing'], ['Swimming'], ['Bathing'], ['Swimming'], [], [], ['Painting'], [], ['Swimming'], ['Bathing'], ['Fishing'], ['Boarding'], ['Dragging'], [], ['Swimming'], ['Bathing'], ['Coming'], [], ['Standing', 'Bathing'], ['Swimming'], ['Bathing', 'whaling'], ['Bathing'], ['Launching'], ['Floating'], ['Swimming'], ['Bathing'], ['Swimming'], ['Swimming'], ['Trying'], [], ['Bathing'], [], ['Swimming'], [], ['Swimming'], [], ['Bathing'], [], [], ['Bathing'], ['Deserting'], ['Bathing'], ['Swimming'], ['Bathing'], ['Bathing'], ['Swimming'], ['Swimming'], ['Bathing'], [], ['being'], [], ['Swimming'], ['Swimming'], ['Bathing'], [], [], ['Swimming'], ['Swimming'], ['Swimming'], ['Swimming'], [], ['Bathing'], [], [], ['Swimming'], ['Swimming'], ['Swimming'], ['Swimming'], ['Diving'], ['Swimming'], [], ['diving'], ['fighting'], [], ['Swimming'], ['Fishing'], [], [], ['Swimming'], [], ['Swimming'], [], ['Swimming'], ['wading', 'carrying'], ['Bathing'], ['Swimming'], ['diving'], ['Bathing'], [], ['Bathing'], ['Swimming'], ['Attempting'], ['Bathing'], [], ['Swimming'], ['Standing'], ['Swimming'], ['Swimming'], [], [], ['Swimming'], ['Boating'], [], ['Fishing'], [], ['netting'], [], [], ['Swimming'], [], [], ['Harassing'], [], [], ['Bathing'], ['Swimming'], [], ['Sailing'], ['treading', 'awaiting'], [], ['Sitting'], ['Attempting'], [], ['Bathing'], ['Washing'], [], [], [], ['Bathing'], ['Hooking'], ['Swimming'], ['Fishing'], ['Bathing'], ['clinging'], ['Fishing'], ['Washing'], ['Bathing'], [], [], ['loading', 'bathing'], ['Surfing'], ['Swimming'], ['Swimming'], [], [], [], ['Bathing'], [], ['Swimming'], [], [], [], [], ['Swimming'], ['Swimming'], ['Swimming'], [], ['Swimming'], ['Swimming'], [], [], [], [], [], [], [], ['Fishing'], ['Swimming'], [], ['Surfing'], [], [], ['Fishing'], ['Bathing'], ['Swimming'], [], ['Swimming'], [], ['diving'], ['Swimming'], ['Swimming'], [], ['Swimming'], ['Swimming'], [], ['Bathing'], ['Bathing'], [], [], ['Wading'], [], ['Swimming'], ['working'], ['pulling'], ['Swimming'], [], ['diving'], [], ['diving'], [], ['Ascending'], ['Washing'], [], [], ['Diving'], ['Diving'], ['Swimming'], ['Swimming'], ['Swimming'], ['Swimming'], ['Swimming'], [], [], ['Diving'], [], ['Swimming'], ['Fishing', 'basking'], [], ['Collecting'], ['diving'], ['Snorkeling'], [], ['tagging'], ['Surfing'], [], ['diving'], ['fishing'], [], ['Netting'], ['Bathing'], ['Fishing'], ['Spearfishing'], ['fishing'], ['diving'], ['Fishing'], ['Swimming'], ['diving'], ['diving'], ['Spearfishing'], ['Kitesurfing'], [], ['Diving'], ['Diving'], ['Fishing'], ['Diving'], [], ['Attempting'], [], ['diving', 'towing'], ['diving'], ['diving'], ['Crossing'], ['diving', 'collecting'], ['Swimming'], ['Diving'], ['Canoeing'], [], ['Diving'], ['diving'], ['Swimming'], ['Spearfishing'], ['Skindiving'], ['Swimming'], ['Fishing', 'holding'], ['Swimming'], ['Swimming', 'washing', 'cooking'], [], [], ['Spearfishing'], ['Swimming'], ['Bathing'], ['Standing'], ['Testing', 'diving'], ['Swimming'], [], ['Lashing'], ['fishing'], ['Swimming'], ['Diving'], ['Fishing', 'wading', 'string'], [], [], ['Floating'], ['diving'], ['Fishing'], [], ['Standing', 'washing'], ['Swimming'], ['Diving'], ['Diving'], ['Diving'], [], ['Carrying'], ['ding'], ['swimming'], ['Bathing'], ['fishing'], ['diving'], ['Standing'], [], ['Swimming'], ['Wading'], ['diving'], ['Swimming'], [], ['Fishing'], ['Swimming'], ['swimming'], ['bathing'], ['sailing'], ['Swimming'], ['Fishing'], ['Wading'], ['Swimming'], [], ['Fishing'], ['Fishing'], ['Fishing'], ['Swimming'], ['Diving'], ['diving'], ['Swimming'], [], ['Swimming']]\n",
      "{'m', 'h', 'M', 'b', 't', 'n', 'g', 'F', 'l', 'J', 'v', 'N', 'P', 's', 'C', 'u', 'y', 'B', 'L', 'c', 'H', 'w', 'G', 'E', 'D', 'p', 'e', 'R', 'O', 'T', 'k', 'i', 'j', 'r', 'o', 'I', 'S', 'a', 'd', 'A', 'x', 'f', 'W', 'K'}\n"
     ]
    }
   ],
   "source": [
    "#Clean Activity column\n",
    "#print(set(data['Activity']))\n",
    "lst=[]\n",
    "data['Activity'] = data['Activity'].astype(str)\n",
    "for e in data['Activity']:\n",
    "    lst.append(re.findall(\"[A-Za-z]*-?ing\",e))\n",
    "print(lst)\n",
    "#voir comment obtenir une liste puis si plusieurs choix pour une même ligne comment faire un arbitrage (est-ce qu'on peut garder plusieurs activité et les séparer par une , ou autre)\n",
    "lst2 = [z for x in lst for y in x for z in y]\n",
    "print(set(lst2))"
   ]
  },
  {
   "cell_type": "code",
   "execution_count": null,
   "metadata": {},
   "outputs": [],
   "source": [
    "#créer une colonne pour dire si incident concerne plusieurs personnes (généralement pas d'info dans Sex, Age, )"
   ]
  },
  {
   "cell_type": "code",
   "execution_count": 169,
   "metadata": {},
   "outputs": [
    {
     "data": {
      "text/plain": [
       "ANGOLA                               1\n",
       "CYPRUS                               1\n",
       "GREENLAND                            1\n",
       "BRITISH ISLES                        1\n",
       "GHANA                                1\n",
       "FALKLAND ISLANDS                     1\n",
       "DJIBOUTI                             1\n",
       "EQUATORIAL GUINEA / CAMEROON         1\n",
       "ARGENTINA                            1\n",
       "RED SEA / INDIAN OCEAN               1\n",
       "TASMAN SEA                           1\n",
       "TUVALU                               1\n",
       "MONACO                               1\n",
       "WESTERN SAMOA                        1\n",
       "ST. MARTIN                           1\n",
       "MAYOTTE                              1\n",
       "ADMIRALTY ISLANDS                    1\n",
       "GUATEMALA                            1\n",
       "GABON                                1\n",
       "GRAND CAYMAN                         1\n",
       "GEORGIA                              1\n",
       "NORTHERN ARABIAN SEA                 1\n",
       "NORTH SEA                            1\n",
       "FEDERATED STATES OF MICRONESIA       1\n",
       "BANGLADESH                           1\n",
       "GULF OF ADEN                         1\n",
       "BRITISH VIRGIN ISLANDS               1\n",
       "IRAN / IRAQ                          1\n",
       "THE BALKANS                          1\n",
       "St Helena                            1\n",
       "                                  ... \n",
       "ENGLAND                             19\n",
       "INDONESIA                           20\n",
       "FRENCH POLYNESIA                    22\n",
       "JAMAICA                             23\n",
       "HONG KONG                           24\n",
       "GREECE                              25\n",
       "SOLOMON ISLANDS                     29\n",
       "IRAN                                29\n",
       "JAPAN                               32\n",
       "PANAMA                              32\n",
       "CROATIA                             34\n",
       "INDIA                               37\n",
       "EGYPT                               38\n",
       "SPAIN                               40\n",
       "CUBA                                42\n",
       "nan                                 43\n",
       "MOZAMBIQUE                          44\n",
       "NEW CALEDONIA                       51\n",
       "REUNION                             57\n",
       "PHILIPPINES                         60\n",
       "FIJI                                62\n",
       "ITALY                               71\n",
       "MEXICO                              82\n",
       "BAHAMAS                             98\n",
       "BRAZIL                             102\n",
       "NEW ZEALAND                        125\n",
       "PAPUA NEW GUINEA                   133\n",
       "SOUTH AFRICA                       565\n",
       "AUSTRALIA                         1279\n",
       "USA                               2116\n",
       "Name: Country, Length: 192, dtype: int64"
      ]
     },
     "execution_count": 169,
     "metadata": {},
     "output_type": "execute_result"
    }
   ],
   "source": [
    "data['Country'].value_counts(ascending=True,dropna=False)"
   ]
  }
 ],
 "metadata": {
  "kernelspec": {
   "display_name": "Python 3",
   "language": "python",
   "name": "python3"
  },
  "language_info": {
   "codemirror_mode": {
    "name": "ipython",
    "version": 3
   },
   "file_extension": ".py",
   "mimetype": "text/x-python",
   "name": "python",
   "nbconvert_exporter": "python",
   "pygments_lexer": "ipython3",
   "version": "3.7.3"
  }
 },
 "nbformat": 4,
 "nbformat_minor": 2
}
