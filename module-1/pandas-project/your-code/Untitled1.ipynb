{
 "cells": [
  {
   "cell_type": "code",
   "execution_count": 15,
   "metadata": {},
   "outputs": [],
   "source": [
    "import pandas as pd\n",
    "import re\n",
    "from datetime import datetime\n",
    "import numpy as np\n",
    "data = pd.read_csv('GSAF5.csv', encoding='latin-1')\n",
    "#rename Sex column without space\n",
    "data.rename(columns={\"Sex \":\"Sex\"}, inplace=True)"
   ]
  },
  {
   "cell_type": "code",
   "execution_count": 10,
   "metadata": {},
   "outputs": [],
   "source": [
    "#function to remove space at the beginning and at the end of my string\n",
    "def remove_spaces(e):\n",
    "    if re.search(\"^ \",e):\n",
    "        e = re.sub(\"^ +\",\"\",e)\n",
    "    if re.search(\" $\",e):\n",
    "        e = re.sub(\" +$\",\"\",e)\n",
    "    return e"
   ]
  },
  {
   "cell_type": "code",
   "execution_count": 22,
   "metadata": {},
   "outputs": [
    {
     "name": "stdout",
     "output_type": "stream",
     "text": [
      "{nan, 'M', 'F', ''}\n"
     ]
    }
   ],
   "source": [
    "print(set(data['Sex']))"
   ]
  },
  {
   "cell_type": "code",
   "execution_count": 21,
   "metadata": {},
   "outputs": [],
   "source": [
    "data['Sex'] = data['Sex'].str.replace(\"N\",\"\")\n",
    "data['Sex'] = data['Sex'].str.replace(\"\\.\",\"\")\n",
    "data['Sex'] = data['Sex'].str.replace(\"lli\",\"\")\n",
    "data['Sex'] = data['Sex'].str.replace(\"^ +\",\"\")\n",
    "data['Sex'] = data['Sex'].str.replace(\" +$\",\"\")\n",
    "data['Sex'] = data['Sex'].fillna(\"\")"
   ]
  },
  {
   "cell_type": "code",
   "execution_count": null,
   "metadata": {},
   "outputs": [],
   "source": []
  }
 ],
 "metadata": {
  "kernelspec": {
   "display_name": "Python 3",
   "language": "python",
   "name": "python3"
  },
  "language_info": {
   "codemirror_mode": {
    "name": "ipython",
    "version": 3
   },
   "file_extension": ".py",
   "mimetype": "text/x-python",
   "name": "python",
   "nbconvert_exporter": "python",
   "pygments_lexer": "ipython3",
   "version": "3.7.3"
  }
 },
 "nbformat": 4,
 "nbformat_minor": 2
}
