{
 "cells": [
  {
   "cell_type": "code",
   "execution_count": 1,
   "metadata": {},
   "outputs": [
    {
     "name": "stdout",
     "output_type": "stream",
     "text": [
      "1.16.2\n"
     ]
    }
   ],
   "source": [
    "#1. Import the NUMPY package under the name np.\n",
    "import numpy as np\n",
    "\n",
    "#2. Print the NUMPY version and the configuration.\n",
    "print(np.version.version)"
   ]
  },
  {
   "cell_type": "code",
   "execution_count": 2,
   "metadata": {},
   "outputs": [
    {
     "name": "stdout",
     "output_type": "stream",
     "text": [
      "[[[0.08793948 0.42832443 0.39430353 0.64280499 0.51325013]\n",
      "  [0.82622845 0.3892747  0.84819399 0.88340741 0.87358405]\n",
      "  [0.15383724 0.68725344 0.64906201 0.3419607  0.7010036 ]]\n",
      "\n",
      " [[0.05308887 0.12880717 0.1318471  0.07641896 0.35313586]\n",
      "  [0.76964064 0.24121776 0.62639171 0.23211994 0.96274904]\n",
      "  [0.4713482  0.40197744 0.24815599 0.4968684  0.92057971]]]\n"
     ]
    }
   ],
   "source": [
    "a = np.random.random((2,3,5))\n",
    "print(a)"
   ]
  },
  {
   "cell_type": "code",
   "execution_count": 9,
   "metadata": {},
   "outputs": [],
   "source": [
    "b=np.ones((5,2,3))"
   ]
  },
  {
   "cell_type": "code",
   "execution_count": 12,
   "metadata": {},
   "outputs": [
    {
     "data": {
      "text/plain": [
       "True"
      ]
     },
     "execution_count": 12,
     "metadata": {},
     "output_type": "execute_result"
    }
   ],
   "source": [
    "def array_size_comparision(a,b):\n",
    "    if a.size == b.size:\n",
    "        return True\n",
    "    else:\n",
    "        return False\n",
    "    \n",
    "array_size_comparision(a,b)"
   ]
  },
  {
   "cell_type": "code",
   "execution_count": 18,
   "metadata": {},
   "outputs": [
    {
     "name": "stdout",
     "output_type": "stream",
     "text": [
      "(2, 3, 5)\n"
     ]
    }
   ],
   "source": [
    "c=np.transpose(b,(1,2,0))\n",
    "print(c.shape)"
   ]
  },
  {
   "cell_type": "code",
   "execution_count": 19,
   "metadata": {},
   "outputs": [
    {
     "name": "stdout",
     "output_type": "stream",
     "text": [
      "[[[1.08793948 1.42832443 1.39430353 1.64280499 1.51325013]\n",
      "  [1.82622845 1.3892747  1.84819399 1.88340741 1.87358405]\n",
      "  [1.15383724 1.68725344 1.64906201 1.3419607  1.7010036 ]]\n",
      "\n",
      " [[1.05308887 1.12880717 1.1318471  1.07641896 1.35313586]\n",
      "  [1.76964064 1.24121776 1.62639171 1.23211994 1.96274904]\n",
      "  [1.4713482  1.40197744 1.24815599 1.4968684  1.92057971]]]\n"
     ]
    }
   ],
   "source": [
    "print(np.add(a,c))"
   ]
  },
  {
   "cell_type": "code",
   "execution_count": 23,
   "metadata": {},
   "outputs": [],
   "source": [
    "d = np.add(a,c)"
   ]
  },
  {
   "cell_type": "code",
   "execution_count": 21,
   "metadata": {},
   "outputs": [
    {
     "data": {
      "text/plain": [
       "array([[[0.08793948, 0.42832443, 0.39430353, 0.64280499, 0.51325013],\n",
       "        [0.82622845, 0.3892747 , 0.84819399, 0.88340741, 0.87358405],\n",
       "        [0.15383724, 0.68725344, 0.64906201, 0.3419607 , 0.7010036 ]],\n",
       "\n",
       "       [[0.05308887, 0.12880717, 0.1318471 , 0.07641896, 0.35313586],\n",
       "        [0.76964064, 0.24121776, 0.62639171, 0.23211994, 0.96274904],\n",
       "        [0.4713482 , 0.40197744, 0.24815599, 0.4968684 , 0.92057971]]])"
      ]
     },
     "execution_count": 21,
     "metadata": {},
     "output_type": "execute_result"
    }
   ],
   "source": [
    "np.multiply(a,c)"
   ]
  },
  {
   "cell_type": "code",
   "execution_count": 24,
   "metadata": {},
   "outputs": [],
   "source": [
    "d_max = np.max(d)\n",
    "d_min = np.min(d)\n",
    "d_mean = np.mean(d)"
   ]
  },
  {
   "cell_type": "code",
   "execution_count": 25,
   "metadata": {},
   "outputs": [
    {
     "data": {
      "text/plain": [
       "1.9627490390741824"
      ]
     },
     "execution_count": 25,
     "metadata": {},
     "output_type": "execute_result"
    }
   ],
   "source": [
    "d_max"
   ]
  },
  {
   "cell_type": "code",
   "execution_count": 26,
   "metadata": {},
   "outputs": [
    {
     "data": {
      "text/plain": [
       "1.0530888706537964"
      ]
     },
     "execution_count": 26,
     "metadata": {},
     "output_type": "execute_result"
    }
   ],
   "source": [
    "d_min"
   ]
  },
  {
   "cell_type": "code",
   "execution_count": 27,
   "metadata": {},
   "outputs": [
    {
     "data": {
      "text/plain": [
       "1.4844924983148293"
      ]
     },
     "execution_count": 27,
     "metadata": {},
     "output_type": "execute_result"
    }
   ],
   "source": [
    "d_mean"
   ]
  },
  {
   "cell_type": "code",
   "execution_count": 50,
   "metadata": {},
   "outputs": [],
   "source": [
    "f=np.empty([2, 3,5]) "
   ]
  },
  {
   "cell_type": "code",
   "execution_count": 54,
   "metadata": {},
   "outputs": [
    {
     "name": "stdout",
     "output_type": "stream",
     "text": [
      "[[[1.08793948 1.42832443 1.39430353 1.64280499 1.51325013]\n",
      "  [1.82622845 1.3892747  1.84819399 1.88340741 1.87358405]\n",
      "  [1.15383724 1.68725344 1.64906201 1.3419607  1.7010036 ]]\n",
      "\n",
      " [[1.05308887 1.12880717 1.1318471  1.07641896 1.35313586]\n",
      "  [1.76964064 1.24121776 1.62639171 1.23211994 1.96274904]\n",
      "  [1.4713482  1.40197744 1.24815599 1.4968684  1.92057971]]]\n"
     ]
    }
   ],
   "source": [
    "print(d)"
   ]
  },
  {
   "cell_type": "code",
   "execution_count": 53,
   "metadata": {},
   "outputs": [
    {
     "name": "stdout",
     "output_type": "stream",
     "text": [
      "[[[ 25.  25.  25.  75.  75.]\n",
      "  [ 75.  25.  75.  75.  75.]\n",
      "  [ 25.  75.  75.  25.  75.]]\n",
      "\n",
      " [[  0.  25.  25.  25.  25.]\n",
      "  [ 75.  25.  75.  25. 100.]\n",
      "  [ 25.  25.  25.  75.  75.]]]\n"
     ]
    }
   ],
   "source": [
    "for i in range(2):\n",
    "    for j in range(3):\n",
    "        for k in range(5):\n",
    "    \n",
    "            if d[i,j,k]>d_min and d[i,j,k]<d_mean:\n",
    "                f[i,j,k]=25\n",
    "            elif d[i,j,k]>d_mean and d[i,j,k]<d_max:\n",
    "                f[i,j,k]=75\n",
    "            elif d[i,j,k]==d_mean:\n",
    "                f[i,j,k]=50\n",
    "            elif d[i,j,k]==d_min:\n",
    "                f[i,j,k]=0\n",
    "            elif d[i,j,k]==d_max:\n",
    "                f[i,j,k]=100\n",
    "        \n",
    "print(f)"
   ]
  },
  {
   "cell_type": "code",
   "execution_count": 58,
   "metadata": {},
   "outputs": [
    {
     "name": "stdout",
     "output_type": "stream",
     "text": [
      "[[['B' 'B' 'B' 'D' 'D']\n",
      "  ['D' 'B' 'D' 'D' 'D']\n",
      "  ['B' 'D' 'D' 'B' 'D']]\n",
      "\n",
      " [['A' 'B' 'B' 'B' 'B']\n",
      "  ['D' 'B' 'D' 'B' 'E']\n",
      "  ['B' 'B' 'B' 'D' 'D']]]\n"
     ]
    }
   ],
   "source": [
    "for i in range(2):\n",
    "    for j in range(3):\n",
    "        for k in range(5):\n",
    "    \n",
    "            if d[i,j,k]>d_min and d[i,j,k]<d_mean:\n",
    "                x[i,j,k]=\"B\"\n",
    "            elif d[i,j,k]>d_mean and d[i,j,k]<d_max:\n",
    "                x[i,j,k]=\"D\"\n",
    "            elif d[i,j,k]==d_mean:\n",
    "                x[i,j,k]=\"C\"\n",
    "            elif d[i,j,k]==d_min:\n",
    "                x[i,j,k]=\"A\"\n",
    "            elif d[i,j,k]==d_max:\n",
    "                x[i,j,k]=\"E\"\n",
    "        \n",
    "print(x)"
   ]
  },
  {
   "cell_type": "code",
   "execution_count": 57,
   "metadata": {},
   "outputs": [],
   "source": [
    "x = x.astype(str)"
   ]
  },
  {
   "cell_type": "code",
   "execution_count": 59,
   "metadata": {},
   "outputs": [
    {
     "name": "stdout",
     "output_type": "stream",
     "text": [
      "[[['B' 'B' 'B' 'D' 'D']\n",
      "  ['D' 'B' 'D' 'D' 'D']\n",
      "  ['B' 'D' 'D' 'B' 'D']]\n",
      "\n",
      " [['A' 'B' 'B' 'B' 'B']\n",
      "  ['D' 'B' 'D' 'B' 'E']\n",
      "  ['B' 'B' 'B' 'D' 'D']]]\n"
     ]
    }
   ],
   "source": [
    "f = f.astype(str)\n",
    "for i in range(2):\n",
    "    for j in range(3):\n",
    "        for k in range(5):\n",
    "    \n",
    "            if d[i,j,k]>d_min and d[i,j,k]<d_mean:\n",
    "                f[i,j,k]=\"B\"\n",
    "            elif d[i,j,k]>d_mean and d[i,j,k]<d_max:\n",
    "                f[i,j,k]=\"D\"\n",
    "            elif d[i,j,k]==d_mean:\n",
    "                f[i,j,k]=\"C\"\n",
    "            elif d[i,j,k]==d_min:\n",
    "                f[i,j,k]=\"A\"\n",
    "            elif d[i,j,k]==d_max:\n",
    "                f[i,j,k]=\"E\"\n",
    "        \n",
    "print(f)"
   ]
  },
  {
   "cell_type": "code",
   "execution_count": null,
   "metadata": {},
   "outputs": [],
   "source": []
  }
 ],
 "metadata": {
  "kernelspec": {
   "display_name": "Python 3",
   "language": "python",
   "name": "python3"
  },
  "language_info": {
   "codemirror_mode": {
    "name": "ipython",
    "version": 3
   },
   "file_extension": ".py",
   "mimetype": "text/x-python",
   "name": "python",
   "nbconvert_exporter": "python",
   "pygments_lexer": "ipython3",
   "version": "3.7.3"
  }
 },
 "nbformat": 4,
 "nbformat_minor": 2
}
