{
 "cells": [
  {
   "cell_type": "code",
   "execution_count": 21,
   "metadata": {},
   "outputs": [
    {
     "name": "stdout",
     "output_type": "stream",
     "text": [
      "Please choose your first number (zero to five): zero\n",
      "What do you want to do? plus or minus: minus\n",
      "Please choose your second number (zero to five): five\n",
      "zero minus five equals minus five\n"
     ]
    }
   ],
   "source": [
    "import re\n",
    "\n",
    "nombres = {\"zero\":0,\"one\":1,\"two\":2,\"three\":3,\"four\":4,\"five\":5}\n",
    "chiffres = {0:\"zero\",1:\"one\",2:\"two\",3:\"three\",4:\"four\",5:\"five\",6:\"six\",7:\"seven\",8:\"height\",9:\"nine\",10:\"ten\",-1:\"one\",-2:\"two\",-3:\"three\",-4:\"four\",-5:\"five\"}\n",
    "a = input('Please choose your first number (zero to five): ')\n",
    "#ici mettre un controle sur la valeur d'entrée\n",
    "b = input('What do you want to do? plus or minus: ')\n",
    "#ici mettre un controle sur la valeur d'entrée\n",
    "c = input('Please choose your second number (zero to five): ')\n",
    "\n",
    "if a in nombres:\n",
    "    d = nombres[a]\n",
    "    \n",
    "if c in nombres:\n",
    "    e = nombres[c]\n",
    "    \n",
    "def addition(x,y):\n",
    "    x=int(x)\n",
    "    y=int(y)\n",
    "    z=x+y\n",
    "    return z\n",
    "\n",
    "def substraction(x,y):\n",
    "    x=int(x)\n",
    "    y=int(y)\n",
    "    z=x-y\n",
    "    return z\n",
    "\n",
    "    \n",
    "if b == 'plus':\n",
    "    res=addition(d,e)\n",
    "    print(a, b, c, \"equals\", chiffres[res] )\n",
    "elif b == 'minus':\n",
    "    res=substraction(d,e)\n",
    "    if res<0:\n",
    "        print(a, b, c, \"equals minus\", chiffres[res] )\n",
    "    else:\n",
    "        print(a, b, c, \"equals\", chiffres[res] )\n"
   ]
  },
  {
   "cell_type": "code",
   "execution_count": 14,
   "metadata": {},
   "outputs": [],
   "source": [
    "dic={1:\"one\"}"
   ]
  }
 ],
 "metadata": {
  "kernelspec": {
   "display_name": "Python 3",
   "language": "python",
   "name": "python3"
  },
  "language_info": {
   "codemirror_mode": {
    "name": "ipython",
    "version": 3
   },
   "file_extension": ".py",
   "mimetype": "text/x-python",
   "name": "python",
   "nbconvert_exporter": "python",
   "pygments_lexer": "ipython3",
   "version": "3.7.3"
  }
 },
 "nbformat": 4,
 "nbformat_minor": 2
}
