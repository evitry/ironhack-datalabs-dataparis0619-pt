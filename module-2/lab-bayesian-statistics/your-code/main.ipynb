{
 "cells": [
  {
   "cell_type": "markdown",
   "metadata": {},
   "source": [
    "# Intro to Bayesian Statistics Lab\n",
    "\n",
    "Complete the following set of exercises to solidify your knowledge of Bayesian statistics and Bayesian data analysis."
   ]
  },
  {
   "cell_type": "code",
   "execution_count": 1,
   "metadata": {},
   "outputs": [],
   "source": [
    "import pandas as pd\n",
    "import numpy as np\n",
    "import matplotlib.pyplot as plt"
   ]
  },
  {
   "cell_type": "code",
   "execution_count": 4,
   "metadata": {},
   "outputs": [],
   "source": [
    "def bayes_rule(priors, likelihoods):\n",
    "    marg = sum(np.multiply(priors, likelihoods))\n",
    "    post = np.divide(np.multiply(priors, likelihoods), marg)\n",
    "    return post"
   ]
  },
  {
   "cell_type": "markdown",
   "metadata": {},
   "source": [
    "## 1. Cookie Problem\n",
    "\n",
    "Suppose we have two bowls of cookies. Bowl 1 contains 30 vanilla cookies and 10 chocolate cookies. Bowl 2 contains 20 of each. You randomly pick one cookie out of one of the bowls, and it is vanilla. Use Bayes Theorem to calculate the probability that the vanilla cookie you picked came from Bowl 1?"
   ]
  },
  {
   "cell_type": "code",
   "execution_count": 14,
   "metadata": {},
   "outputs": [
    {
     "name": "stdout",
     "output_type": "stream",
     "text": [
      "Probability of vanilla cookie coming from Bowl 1: 0.6\n"
     ]
    }
   ],
   "source": [
    "'''\n",
    "prior probability\n",
    "Probability to choose either one of the bowl 0,5\n",
    "B1 : bowl1, B2 : bowl2 P(B1) = P(B2) = 0,5\n",
    "'''\n",
    "\n",
    "p_v_knowing_b1 = 3/4\n",
    "p_b1 = 0.5\n",
    "p_v = 0.5*(3/4)+0.5*(1/2)\n",
    "\n",
    "p_b1_knowing_v = p_v_knowing_b1 * p_b1 / p_v\n",
    "print('Probability of vanilla cookie coming from Bowl 1:', p_b1_knowing_v)"
   ]
  },
  {
   "cell_type": "code",
   "execution_count": 5,
   "metadata": {},
   "outputs": [
    {
     "name": "stdout",
     "output_type": "stream",
     "text": [
      "Probability of vanilla cookie coming from Bowl 1: 0.6\n"
     ]
    }
   ],
   "source": [
    "#Verif\n",
    "priors = [0.5, 0.5]\n",
    "likelihoods = [0.75, 0.5]\n",
    "\n",
    "posteriors = bayes_rule(priors, likelihoods)\n",
    "\n",
    "print('Probability of vanilla cookie coming from Bowl 1:', posteriors[0])"
   ]
  },
  {
   "cell_type": "markdown",
   "metadata": {},
   "source": [
    "What is the probability that it came from Bowl 2?"
   ]
  },
  {
   "cell_type": "code",
   "execution_count": 15,
   "metadata": {},
   "outputs": [
    {
     "name": "stdout",
     "output_type": "stream",
     "text": [
      "Probability of vanilla cookie coming from Bowl 2: 0.4\n"
     ]
    }
   ],
   "source": [
    "p_v_knowing_b2 = 0.5\n",
    "p_b2 = 0.5\n",
    "p_v = 0.5*(3/4)+0.5*(1/2)\n",
    "\n",
    "p_b2_knowing_v = p_v_knowing_b2 * p_b2 / p_v\n",
    "print('Probability of vanilla cookie coming from Bowl 2:', p_b2_knowing_v)"
   ]
  },
  {
   "cell_type": "code",
   "execution_count": 7,
   "metadata": {},
   "outputs": [
    {
     "name": "stdout",
     "output_type": "stream",
     "text": [
      "Probability of vanilla cookie coming from Bowl 2: 0.4\n"
     ]
    }
   ],
   "source": [
    "#Verif\n",
    "print('Probability of vanilla cookie coming from Bowl 2:', posteriors[1])"
   ]
  },
  {
   "cell_type": "markdown",
   "metadata": {},
   "source": [
    "What if the cookie you had picked was chocolate? What are the probabilities that the chocolate cookie came from Bowl 1 and Bowl 2 respectively?"
   ]
  },
  {
   "cell_type": "code",
   "execution_count": 16,
   "metadata": {},
   "outputs": [
    {
     "name": "stdout",
     "output_type": "stream",
     "text": [
      "Probability of chocolate cookie coming from Bowl 1: 0.3333333333333333\n",
      "Probability of chocolate cookie coming from Bowl 2: 0.6666666666666666\n"
     ]
    }
   ],
   "source": [
    "#Proba that a choco cookie came from B1\n",
    "p_b1_knowing_c = ((1/4) * 0.5) / (0.5*(1/4)+0.5*(1/2))\n",
    "print('Probability of chocolate cookie coming from Bowl 1:', p_b1_knowing_c)\n",
    "\n",
    "#Proba that a choco cookie came from B2\n",
    "p_b2_knowing_c = ((1/2) * 0.5) / (0.5*(1/4)+0.5*(1/2))\n",
    "print('Probability of chocolate cookie coming from Bowl 2:', p_b2_knowing_c)"
   ]
  },
  {
   "cell_type": "code",
   "execution_count": 10,
   "metadata": {},
   "outputs": [
    {
     "name": "stdout",
     "output_type": "stream",
     "text": [
      "Probability of chocolate cookie coming from Bowl 1: 0.3333333333333333\n",
      "Probability of chocolate cookie coming from Bowl 2: 0.6666666666666666\n"
     ]
    }
   ],
   "source": [
    "#Verif\n",
    "likelihoods = [0.25, 0.5]\n",
    "\n",
    "posteriors = bayes_rule(priors, likelihoods)\n",
    "\n",
    "print('Probability of chocolate cookie coming from Bowl 1:', posteriors[0])\n",
    "print('Probability of chocolate cookie coming from Bowl 2:', posteriors[1])"
   ]
  },
  {
   "cell_type": "markdown",
   "metadata": {},
   "source": [
    "## 2. Candy Problem\n",
    "\n",
    "Suppose you have two bags of candies:\n",
    "\n",
    "- In Bag 1, the mix of colors is:\n",
    "    - Brown - 30%\n",
    "    - Yellow - 20%\n",
    "    - Red - 20%\n",
    "    - Green - 10%\n",
    "    - Orange - 10%\n",
    "    - Tan - 10%\n",
    "    \n",
    "- In Bag 2, the mix of colors is:\n",
    "    - Blue - 24%\n",
    "    - Green - 20%\n",
    "    - Orange - 16%\n",
    "    - Yellow - 14%\n",
    "    - Red - 13%\n",
    "    - Brown - 13%\n",
    "    \n",
    "Not knowing which bag is which, you randomly draw one candy from each bag. One is yellow and one is green. What is the probability that the yellow one came from the Bag 1?\n",
    "\n",
    "*Hint: For the likelihoods, you will need to multiply the probabilities of drawing yellow from one bag and green from the other bag and vice versa.*"
   ]
  },
  {
   "cell_type": "code",
   "execution_count": 18,
   "metadata": {},
   "outputs": [
    {
     "name": "stdout",
     "output_type": "stream",
     "text": [
      "Probability of yellow candy coming from Bag 1: 0.7407407407407408\n"
     ]
    }
   ],
   "source": [
    "#Proba of getting a yellow candy from bag1 knowing that we picked a green one in bag2\n",
    "\n",
    "p_yb1_knowing_gb2 = (0.2 * (0.5*0.2)) / (0.5*0.2*0.2+0.5*0.14*0.1)\n",
    "\n",
    "print('Probability of yellow candy coming from Bag 1:', p_yb1_knowing_gb2)"
   ]
  },
  {
   "cell_type": "code",
   "execution_count": 17,
   "metadata": {},
   "outputs": [
    {
     "name": "stdout",
     "output_type": "stream",
     "text": [
      "Probability of yellow candy coming from Bag 1: 0.7407407407407408\n"
     ]
    }
   ],
   "source": [
    "#Verif\n",
    "priors = [0.5, 0.5]\n",
    "likelihoods = [(0.2 * 0.2), (0.14 * 0.1)]\n",
    "\n",
    "posteriors = bayes_rule(priors, likelihoods)\n",
    "\n",
    "print('Probability of yellow candy coming from Bag 1:', posteriors[0])"
   ]
  },
  {
   "cell_type": "markdown",
   "metadata": {},
   "source": [
    "What is the probability that the yellow candy came from Bag 2?"
   ]
  },
  {
   "cell_type": "code",
   "execution_count": 21,
   "metadata": {},
   "outputs": [
    {
     "name": "stdout",
     "output_type": "stream",
     "text": [
      "Probability of yellow candy coming from Bag 1: 0.25925925925925924\n"
     ]
    }
   ],
   "source": [
    "#Proba of getting a yellow candy from bag2 knowing that we picked a green one in bag1\n",
    "\n",
    "p_yb2_knowing_gb1 = (0.1 * (0.5*0.14)) / (0.5*0.2*0.2+0.5*0.14*0.1)\n",
    "\n",
    "print('Probability of yellow candy coming from Bag 2:', p_yb2_knowing_gb1)"
   ]
  },
  {
   "cell_type": "code",
   "execution_count": 20,
   "metadata": {},
   "outputs": [
    {
     "name": "stdout",
     "output_type": "stream",
     "text": [
      "Probability of yellow candy coming from Bag 1: 0.25925925925925924\n"
     ]
    }
   ],
   "source": [
    "#Verif\n",
    "print('Probability of yellow candy coming from Bag 2:', posteriors[1])"
   ]
  },
  {
   "cell_type": "markdown",
   "metadata": {},
   "source": [
    "What are the probabilities that the green one came from Bag 1 and Bag 2 respectively?"
   ]
  },
  {
   "cell_type": "code",
   "execution_count": 23,
   "metadata": {},
   "outputs": [
    {
     "name": "stdout",
     "output_type": "stream",
     "text": [
      "Probability of green candy coming from Bag 1: 0.25925925925925924\n",
      "Probability of green candy coming from Bag 2: 0.7407407407407408\n"
     ]
    }
   ],
   "source": [
    "#Verif\n",
    "priors = [0.5, 0.5]\n",
    "likelihoods = [(0.14 * 0.1), (0.2 * 0.2)]\n",
    "\n",
    "posteriors = bayes_rule(priors, likelihoods)\n",
    "\n",
    "print('Probability of green candy coming from Bag 1:', posteriors[0])\n",
    "print('Probability of green candy coming from Bag 2:', posteriors[1])"
   ]
  },
  {
   "cell_type": "markdown",
   "metadata": {},
   "source": [
    "## 3. Monty Hall Problem\n",
    "\n",
    "Suppose you are a contestant on the popular game show *Let's Make a Deal*. The host of the show (Monty Hall) presents you with three doors - Door A, Door B, and Door C. He tells you that there is a sports car behind one of them and if you choose the correct one, you win the car!\n",
    "\n",
    "You select Door A, but then Monty makes things a little more interesting. He opens Door B to reveal that there is no sports car behind it and asks you if you would like to stick with your choice of Door A or switch your choice to Door C. Given this new information, what are the probabilities of you winning the car if you stick with Door A versus if you switch to Door C?"
   ]
  },
  {
   "cell_type": "code",
   "execution_count": 25,
   "metadata": {},
   "outputs": [
    {
     "name": "stdout",
     "output_type": "stream",
     "text": [
      "Probability of winning if you stick with Door A: 0.3333333333333333\n",
      "Probability of winning if you switch to Door C: 0.6666666666666666\n"
     ]
    }
   ],
   "source": [
    "priors = [1/3, 1/3, 1/3]\n",
    "likelihoods = [1/2, 0, 1]\n",
    "\n",
    "posteriors = bayes_rule(priors, likelihoods)\n",
    "\n",
    "print('Probability of winning if you stick with Door A:', posteriors[0])\n",
    "print('Probability of winning if you switch to Door C:', posteriors[2])"
   ]
  },
  {
   "cell_type": "markdown",
   "metadata": {},
   "source": [
    "## 4. Bayesian Analysis \n",
    "\n",
    "Suppose you work for a landscaping company, and they want to advertise their service online. They create an ad and sit back waiting for the money to roll in. On the first day, the ad sends 100 visitors to the site and 14 of them sign up for landscaping services. Create a generative model to come up with the posterior distribution and produce a visualization of what the posterior distribution would look like given the observed data."
   ]
  },
  {
   "cell_type": "code",
   "execution_count": 40,
   "metadata": {},
   "outputs": [
    {
     "data": {
      "text/plain": [
       "<matplotlib.axes._subplots.AxesSubplot at 0x1cfd624cf60>"
      ]
     },
     "execution_count": 40,
     "metadata": {},
     "output_type": "execute_result"
    },
    {
     "data": {
      "image/png": "[encoded data removed]",
      "text/plain": [
       "<Figure size 432x288 with 1 Axes>"
      ]
     },
     "metadata": {
      "needs_background": "light"
     },
     "output_type": "display_data"
    }
   ],
   "source": [
    "observed = 14\n",
    "\n",
    "def generative_model(param):\n",
    "    result = np.random.binomial(100, param) #100 = moyenne, param = écart-type\n",
    "    return result\n",
    "\n",
    "sim_data = list()\n",
    "\n",
    "n_draws=10000\n",
    "prior = pd.Series(np.random.uniform(0, 1, size=n_draws))\n",
    "\n",
    "for p in prior:\n",
    "    sim_data.append(generative_model(p))\n",
    "\n",
    "posterior = prior[list(map(lambda x: x == observed, sim_data))]\n",
    "posterior.hist()"
   ]
  },
  {
   "cell_type": "markdown",
   "metadata": {},
   "source": [
    "Produce a set of descriptive statistics for the posterior distribution."
   ]
  },
  {
   "cell_type": "code",
   "execution_count": 41,
   "metadata": {},
   "outputs": [
    {
     "data": {
      "text/plain": [
       "count    93.000000\n",
       "mean      0.138321\n",
       "std       0.032122\n",
       "min       0.055076\n",
       "25%       0.117848\n",
       "50%       0.137134\n",
       "75%       0.161944\n",
       "max       0.222338\n",
       "dtype: float64"
      ]
     },
     "execution_count": 41,
     "metadata": {},
     "output_type": "execute_result"
    }
   ],
   "source": [
    "posterior.describe()"
   ]
  },
  {
   "cell_type": "markdown",
   "metadata": {},
   "source": [
    "What is the 90% credible interval range?"
   ]
  },
  {
   "cell_type": "code",
   "execution_count": 42,
   "metadata": {},
   "outputs": [
    {
     "name": "stdout",
     "output_type": "stream",
     "text": [
      "0.080988653181203 | 0.2109010013957148\n"
     ]
    }
   ],
   "source": [
    "print(posterior.quantile(.025), '|', posterior.quantile(.975))"
   ]
  },
  {
   "cell_type": "markdown",
   "metadata": {},
   "source": [
    "What is the Maximum Likelihood Estimate?"
   ]
  },
  {
   "cell_type": "code",
   "execution_count": 44,
   "metadata": {},
   "outputs": [
    {
     "name": "stdout",
     "output_type": "stream",
     "text": [
      "Maximum Likelihood Estimate:  0.16 | 0.15053763440860216\n"
     ]
    }
   ],
   "source": [
    "rounded = posterior.round(2)\n",
    "mode = rounded.mode()[0]\n",
    "probability = list(rounded).count(mode)/len(rounded)\n",
    "print('Maximum Likelihood Estimate: ', mode, '|',probability)"
   ]
  },
  {
   "cell_type": "code",
   "execution_count": null,
   "metadata": {},
   "outputs": [],
   "source": [
    "'''This tells us that given the data we have thus far, \n",
    "it is most likely that 16% of the visitors will make a purchase.'''"
   ]
  }
 ],
 "metadata": {
  "kernelspec": {
   "display_name": "Python 3",
   "language": "python",
   "name": "python3"
  },
  "language_info": {
   "codemirror_mode": {
    "name": "ipython",
    "version": 3
   },
   "file_extension": ".py",
   "mimetype": "text/x-python",
   "name": "python",
   "nbconvert_exporter": "python",
   "pygments_lexer": "ipython3",
   "version": "3.7.3"
  }
 },
 "nbformat": 4,
 "nbformat_minor": 2
}
